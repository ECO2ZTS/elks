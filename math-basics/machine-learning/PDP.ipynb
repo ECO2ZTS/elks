{
 "cells": [
  {
   "cell_type": "markdown",
   "metadata": {},
   "source": [
    "# Partial Dependence Plot\n",
    "\n",
    "这部分主要参考了[Interpretable Machine Learning](https://christophm.github.io/interpretable-ml-book/)\n",
    "\n",
    "The partial dependence plot (short PDP or PD plot) shows **the marginal effect one or two features have on the predicted outcome** of a machine learning model.\n",
    "\n"
   ]
  }
 ],
 "metadata": {
  "kernelspec": {
   "display_name": "Python 3",
   "language": "python",
   "name": "python3"
  },
  "language_info": {
   "codemirror_mode": {
    "name": "ipython",
    "version": 3
   },
   "file_extension": ".py",
   "mimetype": "text/x-python",
   "name": "python",
   "nbconvert_exporter": "python",
   "pygments_lexer": "ipython3",
   "version": "3.7.4"
  }
 },
 "nbformat": 4,
 "nbformat_minor": 4
}
