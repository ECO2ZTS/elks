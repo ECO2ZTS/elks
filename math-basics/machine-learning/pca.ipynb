{
 "cells": [
  {
   "cell_type": "markdown",
   "metadata": {
    "pycharm": {
     "name": "#%% md\n"
    }
   },
   "source": [
    "# PCA算法简介\n",
    "\n",
    "PCA主成分分析通过线性变换将原始数据变换为一组各维度线性无关的表示，可用于提取数据的主要特征分量，常用于高维数据的降维。\n",
    "降维当然意味着信息的丢失，不过鉴于实际数据本身常常存在的相关性，可以想办法在降维的同时将信息的损失尽量降低。\n",
    "\n",
    "## 问题\n",
    "\n",
    "- 我们到底删除哪一维损失的信息才最小？亦或根本不是单纯删除几列，而是通过某些变换将原始数据变为更少的列但又使得丢失的信息最小？\n",
    "- 到底如何度量丢失信息的多少？\n",
    "- 如何根据原始数据决定具体的降维操作步骤？\n",
    "\n",
    "## 基本思路\n",
    "\n",
    "PCA通过严格的数学推理来处理了这些问题。这里不重视严格推理，简要掌握过程。\n",
    "\n",
    "### 降维与基变换\n",
    "\n",
    "根据线性代数的知识可以知道，选择不同的基可以对同样一组数据给出不同的表示（向量向不同基方向投影结果就是坐标），而且如果基的数量少于向量本身的维数，则可以达到降维的效果。\n",
    "\n",
    "而矩阵相乘就是线性变化，可以作用于一组基上，使之变为另一种基，也就是说选择矩阵变换的形式对应了选择某种基。\n",
    "\n",
    "但是如何选择基才是最优的。或者说，如果有一组N维向量，现在要将其降到K维（K小于N），那么我们应该如何选择K个基才能最大程度保留原有的信息？\n",
    "\n",
    "直观上讲是希望投影后的投影值尽可能分散。因为如果不相同的点投影后重叠了，那就是一种严重的信息丢失。举个例子：\n"
   ]
  },
  {
   "cell_type": "code",
   "execution_count": 1,
   "metadata": {
    "collapsed": false,
    "jupyter": {
     "outputs_hidden": false
    },
    "pycharm": {
     "is_executing": false,
     "name": "#%%\n"
    }
   },
   "outputs": [
    {
     "name": "stdout",
     "output_type": "stream",
     "text": [
      "[[-1. -1.  0.  2.  0.]\n",
      " [-2.  0.  0.  1.  1.]]\n"
     ]
    },
    {
     "data": {
      "image/png": "[encoded data removed]",
      "text/plain": [
       "<Figure size 432x288 with 1 Axes>"
      ]
     },
     "metadata": {
      "needs_background": "light"
     },
     "output_type": "display_data"
    }
   ],
   "source": [
    "import numpy as np\n",
    "import matplotlib.pyplot as plt\n",
    "a=np.array([[1,1,2,4,2],[1,3,3,4,4]])\n",
    "a=np.array([(a[0]-np.mean(a[0])),(a[1]-np.mean(a[1]))])\n",
    "print(a)\n",
    "fig=plt.figure()\n",
    "ax=fig.add_axes([0,0,1,1])\n",
    "ax.scatter(a[0],a[1])\n",
    "ax.set_xlim([-5,4])\n",
    "ax.set_ylim([-5,4])\n",
    "\n",
    "ax.spines['right'].set_color('none')\n",
    "ax.spines['top'].set_color('none')\n",
    "ax.xaxis.set_ticks_position('bottom')\n",
    "ax.spines['bottom'].set_position(('data',0))\n",
    "ax.yaxis.set_ticks_position('left')\n",
    "ax.spines['left'].set_position(('data',0))\n",
    "plt.show()\n"
   ]
  },
  {
   "cell_type": "markdown",
   "metadata": {},
   "source": [
    "\n",
    "### 方差\n",
    "\n",
    "如上图所示，如果我们必须使用一维来表示这些数据，又希望尽量保留原始的信息，你要如何选择？\n",
    "\n",
    "这个问题实际上是要在二维平面中选择一个方向，将所有数据都投影到这个方向所在直线上，用投影值表示原始记录。这是一个实际的二维降到一维的问题。\n",
    "\n",
    "那么如何选择这个方向（或者说基）才能尽量保留最多的原始信息呢？一种直观的看法是：希望投影后的投影值尽可能分散。\n",
    "\n",
    "希望投影后投影值尽可能分散，而这种分散程度，可以用数学上的方差来表述。\n",
    "\n",
    "一个字段的方差可以看做是每个元素与字段均值的差的平方和的均值。\n",
    "\n",
    "于是上面的问题被形式化表述为：寻找一个**一维基**，使得所有数据变换为这个基上的坐标表示后，方差值最大。\n",
    "\n",
    "### 协方差\n",
    "\n",
    "但是对于较高维的情况，如何考虑？\n",
    "\n",
    "考虑三维降到二维问题。与之前相同，首先我们希望找到一个方向使得投影后方差最大，这样就完成了第一个方向的选择，继而我们选择第二个投影方向。\n",
    "\n",
    "如果我们还是单纯只选择方差最大的方向，很明显，这个方向与第一个方向应该是“几乎重合在一起”，显然这样的维度是没有用的，因此，应该有其他约束条件。\n",
    "因为相关性意味着两个字段不是完全独立，必然存在重复表示的信息。\n",
    "\n",
    "数学上可以用两个字段的协方差表示其相关性。为了让协方差为0，我们选择第二个基时只能在与第一个基正交的方向上选择。因此最终选择的两个方向一定是正交的。\n",
    "\n",
    "至此，我们得到了降维问题的优化目标：\n",
    "将一组N维向量降为K维（K大于0，小于N），其目标是选择K个单位（模为1）正交基，使得原始数据变换到这组基上后，各字段两两间协方差为0，而字段的方差则尽可能大（在正交的约束下，取最大的K个方差）。\n",
    "\n",
    "### 协方差矩阵\n",
    "\n",
    "数学上，各字段两两间协方差和字段的方差两者可以被**统一到一个矩阵**。\n",
    "\n",
    "对于任一m个n维数据（归一化过的）组成的n*m矩阵X：\n",
    "\n",
    "$C=\\frac{1}{m} XX^T$\n",
    "\n",
    "为一个对称矩阵，其对角线各元素为各个字段的方差，矩阵是对角阵，第i行第j列元素表示i和j两个字段的协方差。\n",
    "\n",
    "### 协方差矩阵对角化\n",
    "\n",
    "现在可以发现要达到优化目的，等价于将协方差矩阵对角化：即除对角线外的其它元素化为0，并且在对角线上将元素按大小从上到下排列，这样我们就实现了各字段两两间协方差为0，而字段的方差则尽可能大，前面最大的几行就是要选的维数。\n",
    "\n",
    "令P是一组基按行组成的矩阵，设Y=PX，则Y为X对P做基变换后的数据。设Y的协方差矩阵为D，推导D与C的关系：\n",
    "\n",
    "$$D=\\frac{1}{m} YY^T=\\frac{1}{m} (PX)(PX)^T=\\frac{1}{m} PXX^TP^T=P(\\frac{1}{m}XX^T)P^T=PCP^T$$\n",
    "\n",
    "所以现在就很清楚了，就是要找一个P，使得PCP^T=D矩阵其除对角线外的其它元素为0，对角线上元素从大到小排列。\n",
    "\n",
    "### PCA\n",
    "\n",
    "上述问题在数学上早就被解决了，不是什么大问题。因为C是一个实对称矩阵，寻找C的特征值和特征向量是很常见的问题。\n",
    "\n",
    "对C的n个特征向量组成的矩阵E有：\n",
    "\n",
    "$E^TCE=\\Lambda$\n",
    "\n",
    "$\\Lambda$是对角阵，各元素为各特征向量对应的特征值。\n",
    "\n",
    "因此，$P=E^T$，即P是协方差矩阵的特征向量单位化后按行排列出的矩阵，其中每一行都是C的一个特征向量。\n",
    "设P按照$\\Lambda$中特征值的从大到小，将特征向量从上到下排列，则用P的前K行组成的矩阵乘以原始数据矩阵X，就得到了我们需要的降维后的数据矩阵Y。\n"
   ]
  },
  {
   "cell_type": "code",
   "execution_count": 2,
   "metadata": {
    "collapsed": false,
    "jupyter": {
     "outputs_hidden": false
    },
    "pycharm": {
     "is_executing": false,
     "name": "#%%\n"
    }
   },
   "outputs": [
    {
     "name": "stdout",
     "output_type": "stream",
     "text": [
      "[[1.2 0.8]\n",
      " [0.8 1.2]]\n",
      "[2.  0.4]\n",
      "[[ 0.70710678  0.70710678]\n",
      " [-0.70710678  0.70710678]]\n",
      "[[ 2.00000000e+00  0.00000000e+00]\n",
      " [-1.38777878e-16  4.00000000e-01]]\n",
      "[-2.12132034 -0.70710678  0.          2.12132034  0.70710678]\n"
     ]
    }
   ],
   "source": [
    "C=1/5*np.dot(a,a.T)\n",
    "print(C)\n",
    "# 求特征值\n",
    "eigenvalue,featurevector=np.linalg.eig(C)\n",
    "print(eigenvalue)\n",
    "P=featurevector.T\n",
    "print(P)\n",
    "# 验证C的对角化\n",
    "D=P.dot(C).dot(P.T)\n",
    "print(D)\n",
    "# 用P的第一行乘以数据矩阵，就得到了降维后的表示\n",
    "Y=P[0].dot(a)\n",
    "print(Y)"
   ]
  }
 ],
 "metadata": {
  "kernelspec": {
   "display_name": "Python 3",
   "language": "python",
   "name": "python3"
  },
  "language_info": {
   "codemirror_mode": {
    "name": "ipython",
    "version": 3
   },
   "file_extension": ".py",
   "mimetype": "text/x-python",
   "name": "python",
   "nbconvert_exporter": "python",
   "pygments_lexer": "ipython3",
   "version": "3.7.6"
  },
  "pycharm": {
   "stem_cell": {
    "cell_type": "raw",
    "metadata": {
     "collapsed": false
    },
    "source": []
   }
  }
 },
 "nbformat": 4,
 "nbformat_minor": 4
}
