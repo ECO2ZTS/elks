{
 "cells": [
  {
   "cell_type": "markdown",
   "metadata": {},
   "source": [
    "# C++ 基础\n",
    "\n",
    "学习C++基本语法，可以参考资料：[learn-cpp.org free interactive C++ tutorial](https://www.learn-cpp.org/), [Codecademy/learn-cpp](https://github.com/Codecademy/learn-cpp)\n",
    "\n",
    "首先，从最简单的输出流开始"
   ]
  },
  {
   "cell_type": "code",
   "execution_count": 4,
   "metadata": {},
   "outputs": [
    {
     "name": "stdout",
     "output_type": "stream",
     "text": [
      "Hello World!\n"
     ]
    }
   ],
   "source": [
    "#include <iostream>\n",
    "std::cout << \"Hello World!\\n\";"
   ]
  },
  {
   "cell_type": "code",
   "execution_count": 5,
   "metadata": {},
   "outputs": [
    {
     "name": "stdout",
     "output_type": "stream",
     "text": [
      "       1\n",
      "     2 3\n",
      "   4 5 6\n",
      "7 8 9 10\n"
     ]
    }
   ],
   "source": [
    "std::cout << \"       1\\n\";\n",
    "std::cout << \"     2 3\\n\";\n",
    "std::cout << \"   4 5 6\\n\";\n",
    "std::cout << \"7 8 9 10\\n\";"
   ]
  },
  {
   "cell_type": "code",
   "execution_count": 6,
   "metadata": {},
   "outputs": [
    {
     "name": "stdout",
     "output_type": "stream",
     "text": [
      "Dear Self,            \n",
      "                      \n",
      "I will build a VR app.\n",
      "                      \n",
      "               - Sonny\n"
     ]
    }
   ],
   "source": [
    "std::cout << \"Dear Self,            \\n\";\n",
    "std::cout << \"                      \\n\";\n",
    "std::cout << \"I will build a VR app.\\n\";\n",
    "std::cout << \"                      \\n\";\n",
    "std::cout << \"               - Sonny\\n\";"
   ]
  },
  {
   "cell_type": "code",
   "execution_count": 7,
   "metadata": {},
   "outputs": [
    {
     "name": "stdout",
     "output_type": "stream",
     "text": [
      "Expecto Patronum\n"
     ]
    }
   ],
   "source": [
    "std::cout << \"Expecto Patronum\\n\";"
   ]
  },
  {
   "cell_type": "code",
   "execution_count": 8,
   "metadata": {},
   "outputs": [
    {
     "name": "stdout",
     "output_type": "stream",
     "text": [
      "  SSS   L     \n",
      " S   S  L     \n",
      " S      L     \n",
      "  SSS   L     \n",
      "     S  L     \n",
      " S   S  L     \n",
      "  SSS   LLLLL \n"
     ]
    }
   ],
   "source": [
    "std::cout << \"  SSS   L     \\n\";\n",
    "std::cout << \" S   S  L     \\n\";\n",
    "std::cout << \" S      L     \\n\";\n",
    "std::cout << \"  SSS   L     \\n\";\n",
    "std::cout << \"     S  L     \\n\";\n",
    "std::cout << \" S   S  L     \\n\";\n",
    "std::cout << \"  SSS   LLLLL \\n\";"
   ]
  },
  {
   "cell_type": "code",
   "execution_count": 9,
   "metadata": {},
   "outputs": [
    {
     "name": "stdout",
     "output_type": "stream",
     "text": [
      "    *                   *        \n",
      "*        *                       \n",
      " *                *            * \n",
      "      *     *                    \n",
      "                      *          \n",
      "*         *                 *    \n",
      "     * \t      *     *            \n",
      "           HHHHHHH        *      \n",
      " *         HHHHHHH               \n",
      "     *   HHHHHHHHHHH    *     *  \n",
      "         *   @ @   *             \n",
      "        *     ^     *            \n",
      "  *       *       *         *    \n",
      "         SSS * * S               \n",
      "         * SSSSSSSS *            \n",
      "       *      O   SS  *          \n",
      "      *       O    S   *         \n",
      "      *       O        *         \n",
      "       *              *          \n",
      "           *   *   *             \n"
     ]
    }
   ],
   "source": [
    "std::cout << \"    *                   *        \\n\";\n",
    "std::cout << \"*        *                       \\n\";\n",
    "std::cout << \" *                *            * \\n\";\n",
    "std::cout << \"      *     *                    \\n\";\n",
    "std::cout << \"                      *          \\n\";\n",
    "std::cout << \"*         *                 *    \\n\";\n",
    "std::cout << \"     * \t      *     *            \\n\";\n",
    "std::cout << \"           HHHHHHH        *      \\n\";\n",
    "std::cout << \" *         HHHHHHH               \\n\";\n",
    "std::cout << \"     *   HHHHHHHHHHH    *     *  \\n\";\n",
    "std::cout << \"         *   @ @   *             \\n\";\n",
    "std::cout << \"        *     ^     *            \\n\";\n",
    "std::cout << \"  *       *       *         *    \\n\";\n",
    "std::cout << \"         SSS * * S               \\n\";\n",
    "std::cout << \"         * SSSSSSSS *            \\n\";\n",
    "std::cout << \"       *      O   SS  *          \\n\";\n",
    "std::cout << \"      *       O    S   *         \\n\";\n",
    "std::cout << \"      *       O        *         \\n\";\n",
    "std::cout << \"       *              *          \\n\";\n",
    "std::cout << \"           *   *   *             \\n\";"
   ]
  },
  {
   "cell_type": "markdown",
   "metadata": {},
   "source": [
    "接下来是基本变量。"
   ]
  },
  {
   "cell_type": "code",
   "execution_count": 10,
   "metadata": {},
   "outputs": [
    {
     "name": "stdout",
     "output_type": "stream",
     "text": [
      "The temp is 28.3333 degrees Celsius.\n"
     ]
    }
   ],
   "source": [
    "double tempf = 83.0;\n",
    "double tempc;\n",
    "  \n",
    "tempc = (tempf - 32) / 1.8;\n",
    "  \n",
    "std::cout << \"The temp is \" << tempc << \" degrees Celsius.\\n\";"
   ]
  },
  {
   "cell_type": "code",
   "execution_count": 1,
   "metadata": {},
   "outputs": [
    {
     "name": "stdout",
     "output_type": "stream",
     "text": [
      "My name is Sparkles! Ruff Ruff, I am 25 years old in human years.\n"
     ]
    }
   ],
   "source": [
    "#include <iostream>\n",
    "int dog_age = 3;\n",
    "\n",
    "int early_years, later_years, human_years;\n",
    "\n",
    "early_years = 21;\n",
    "\n",
    "later_years = (dog_age - 2) * 4;\n",
    "\n",
    "human_years = early_years + later_years;\n",
    "\n",
    "std::cout << \"My name is Sparkles! Ruff Ruff, I am \" << human_years << \" years old in human years.\\n\";"
   ]
  },
  {
   "cell_type": "code",
   "execution_count": null,
   "metadata": {},
   "outputs": [],
   "source": [
    "#include <iostream>\n",
    "std::string dog_name= \"owen\";\n",
    "double dog_age = 3;\n",
    "double early_years, later_years, human_years;\n",
    "\n",
    "// First two years\n",
    "early_years = 21;\n",
    "\n",
    "// Accounts for later years\n",
    "later_years = (dog_age - 2 ) * 4;\n",
    "\n",
    "// My logic for puppy math\n",
    "if (dog_age < 2) {\n",
    "    early_years = (early_years / 2) * dog_age;\n",
    "    later_years = 0;\n",
    "}\n",
    "\n",
    "human_years = later_years + early_years;\n",
    "\n",
    "std::cout << \"\\nMy name is \" << dog_name << \"! Ruff ruff, I am \" << human_years << \" years old in human years.\\n\";\n",
    "std::cout << \"Bow wow wow yippie yo yippie yay\\n\";"
   ]
  },
  {
   "cell_type": "code",
   "execution_count": 2,
   "metadata": {},
   "outputs": [
    {
     "name": "stdout",
     "output_type": "stream",
     "text": [
      "Root 1 is -0.594875\n",
      "Root 2 is -8.40512\n"
     ]
    }
   ],
   "source": [
    "#include <iostream>\n",
    "#include <cmath>\n",
    "\n",
    "double a, b, c;\n",
    "double root1, root2;\n",
    "\n",
    "a= 1.0;\n",
    "b=9.0;\n",
    "c=5.0;\n",
    "    \n",
    "root1 = (-b + std::sqrt(b*b - 4*a*c)) / (2*a);\n",
    "root2 = (-b - std::sqrt(b*b - 4*a*c)) / (2*a);\n",
    "\n",
    "std::cout << \"Root 1 is \" << root1 << \"\\n\";\n",
    "std::cout << \"Root 2 is \" << root2 << \"\\n\";"
   ]
  },
  {
   "cell_type": "markdown",
   "metadata": {},
   "source": [
    "接下来是流程控制"
   ]
  },
  {
   "cell_type": "code",
   "execution_count": 1,
   "metadata": {},
   "outputs": [
    {
     "name": "stdout",
     "output_type": "stream",
     "text": [
      "Heads\n"
     ]
    }
   ],
   "source": [
    "#include <iostream>\n",
    "#include <stdlib.h>\n",
    "#include <ctime>\n",
    "srand (time(NULL));\n",
    "int\tcoin = rand() % 2;\n",
    "  \n",
    "if (coin == 0) {\n",
    "    std::cout << \"Heads\\n\";\n",
    "} else {\n",
    "    std::cout << \"Tails\\n\";\n",
    "}"
   ]
  },
  {
   "cell_type": "code",
   "execution_count": 1,
   "metadata": {},
   "outputs": [],
   "source": [
    "// 读写文件实例\n",
    "// Created by dutwr on 19-5-24.\n",
    "//\n",
    "\n",
    "/* Copyright 2019 University Corporation for Atmospheric\n",
    "   Research/Unidata.  See COPYRIGHT file for conditions of use. */\n",
    "#include <stdlib.h>\n",
    "#include <stdio.h>\n",
    "#include <netcdf.h>\n",
    "/* This is the name of the data file we will read. */\n",
    "#define FILE_NAME \"simple_nc4.nc\"\n",
    "/* We are reading 2D data, a 6 x 12 grid. */\n",
    "#define NX 6\n",
    "#define NY 12\n",
    "/* Handle errors by printing an error message and exiting with a\n",
    " * non-zero status. */\n",
    "#define ERRCODE 2\n",
    "#define ERR(e) {printf(\"Error: %s\\n\", nc_strerror(e)); exit(ERRCODE);}\n",
    "\n",
    "int main() {\n",
    "    /* There will be netCDF IDs for the file, each group, and each\n",
    "     * variable. */\n",
    "    int ncid, varid1, varid2, grp1id, grp2id;\n",
    "    unsigned long long data_in[NX][NY];\n",
    "    /* Loop indexes, and error handling. */\n",
    "    int x, y, retval;\n",
    "    /* The following struct is written as a compound type. */\n",
    "    struct s1 {\n",
    "        int i1;\n",
    "        int i2;\n",
    "    };\n",
    "    struct s1 compound_data[NX][NY];\n",
    "    /* Open the file. NC_NOWRITE tells netCDF we want read-only access\n",
    "     * to the file.*/\n",
    "    if ((retval = nc_open(FILE_NAME, NC_NOWRITE, &ncid))) ERR(retval);\n",
    "    /* Get the group ids of our two groups. */\n",
    "    if ((retval = nc_inq_ncid(ncid, \"grp1\", &grp1id))) ERR(retval);\n",
    "    if ((retval = nc_inq_ncid(ncid, \"grp2\", &grp2id))) ERR(retval);\n",
    "    /* Get the varid of the uint64 data variable, based on its name, in\n",
    "     * grp1. */\n",
    "    if ((retval = nc_inq_varid(grp1id, \"data\", &varid1))) ERR(retval);\n",
    "    /* Read the data. */\n",
    "    if ((retval = nc_get_var_ulonglong(grp1id, varid1, &data_in[0][0]))) ERR(retval);\n",
    "    /* Get the varid of the compound data variable, based on its name,\n",
    "     * in grp2. */\n",
    "    if ((retval = nc_inq_varid(grp2id, \"data\", &varid2))) ERR(retval);\n",
    "    /* Read the data. */\n",
    "    if ((retval = nc_get_var(grp2id, varid2, &compound_data[0][0]))) ERR(retval);\n",
    "    /* Check the data. */\n",
    "    for (x = 0; x < NX; x++)\n",
    "        for (y = 0; y < NY; y++) {\n",
    "            if (data_in[x][y] != x * NY + y ||\n",
    "                compound_data[x][y].i1 != 42 ||\n",
    "                compound_data[x][y].i2 != -42)\n",
    "                return ERRCODE;\n",
    "        }\n",
    "    /* Close the file, freeing all resources. */\n",
    "    if ((retval = nc_close(ncid))) ERR(retval);\n",
    "    printf(\"*** SUCCESS reading example file %s!\\n\", FILE_NAME);\n",
    "    return 0;\n",
    "}"
   ]
  },
  {
   "cell_type": "code",
   "execution_count": 2,
   "metadata": {},
   "outputs": [
    {
     "name": "stderr",
     "output_type": "stream",
     "text": [
      "\u001b[1minput_line_11:20:33: \u001b[0m\u001b[0;1;31merror: \u001b[0m\u001b[1mfunction definition is not allowed here\u001b[0m\n",
      " int read_a_file(char string[]) {\n",
      "\u001b[0;1;32m                                ^\n",
      "\u001b[0m\u001b[1minput_line_11:40:15: \u001b[0m\u001b[0;1;31merror: \u001b[0m\u001b[1mfunction definition is not allowed here\u001b[0m\n",
      "int read_nc() {\n",
      "\u001b[0;1;32m              ^\n",
      "\u001b[0m\u001b[1minput_line_11:42:12: \u001b[0m\u001b[0;1;31merror: \u001b[0m\u001b[1mfunction definition is not allowed here\u001b[0m\n",
      "int main() {\n",
      "\u001b[0;1;32m           ^\n",
      "\u001b[0m"
     ]
    },
    {
     "ename": "Interpreter Error",
     "evalue": "",
     "output_type": "error",
     "traceback": [
      "Interpreter Error: "
     ]
    }
   ],
   "source": [
    "#include <stdio.h>\n",
    "#include <stdlib.h>\n",
    "\n",
    "/**\n",
    " * @param string 文件路径\n",
    " * @return 成功返回0\n",
    " */\n",
    "int write_a_file(char string[]) {\n",
    "    // 文件流\n",
    "    FILE *fp;\n",
    "    fp = fopen(string, \"w+\");\n",
    "    // fprintf：发送格式化输出到流stream中\n",
    "    fprintf(fp, \"%s %s %s %d\", \"We\", \"are\", \"in\", 2019);\n",
    "    fclose(fp);\n",
    "    return 0;\n",
    "}\n",
    "\n",
    "/**\n",
    " * 读取文件，打印文件内容\n",
    " * @param string  文件路径\n",
    " * @return  成功放回0\n",
    " */\n",
    "int read_a_file(char string[]) {\n",
    "    FILE *fp;\n",
    "    int c;\n",
    "\n",
    "    fp = fopen(string, \"r\");\n",
    "    while (1) {\n",
    "        // fgetc从指定的流中获取下一个字符（一个无符号字符），并把位置标识符往前移动。\n",
    "        c = fgetc(fp);\n",
    "        // feof测试给定流的文件结束标识符。\n",
    "        if (feof(fp)) {\n",
    "            break;\n",
    "        }\n",
    "        printf(\"%c\", c);\n",
    "    }\n",
    "    fclose(fp);\n",
    "    return (0);\n",
    "}\n",
    "\n",
    "/**\n",
    " * 读取nc文件\n",
    " * @return\n",
    " */\n",
    "int read_nc() {\n",
    "\n",
    "}\n",
    "\n",
    "int main() {\n",
    "    printf(\"Hello, World!\\n\");\n",
    "    // ubuntu下绝对路径从/home开始\n",
    "    char file_loc[] = \"/home/dutwr/owenyy/file.txt\";\n",
    "    //调用读文件函数\n",
    "    printf(\"读取一个其他位置的文件\\n\");\n",
    "    int read_success = read_a_file(file_loc);\n",
    "    return read_success;\n",
    "}"
   ]
  }
 ],
 "metadata": {
  "kernelspec": {
   "display_name": "C++14",
   "language": "C++14",
   "name": "xcpp14"
  },
  "language_info": {
   "codemirror_mode": "text/x-c++src",
   "file_extension": ".cpp",
   "mimetype": "text/x-c++src",
   "name": "c++",
   "version": "14"
  }
 },
 "nbformat": 4,
 "nbformat_minor": 4
}
