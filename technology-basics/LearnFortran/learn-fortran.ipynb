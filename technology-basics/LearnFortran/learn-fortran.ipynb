{
 "cells": [
  {
   "cell_type": "markdown",
   "metadata": {},
   "source": [
    "# Fortran 简单语法\n",
    "\n",
    "简单了解下 Fortran 的基本语法，方便后面能看懂相关代码。主要参考资料：https://www.tutorialspoint.com/fortran/index.htm\n",
    "\n",
    "Fortran 最早是由 IBM 的一个团队在 1957 为了科学计算开发的。随后逐渐发展成为一门高级编程语言。本文主要了解 fortran 的基础概念。\n",
    "\n",
    "Fortran 来自 Formula Translating System，表示 FORmula TRANslator，是命令式编程语言，用来做数值及科学计算。其支持：\n",
    "\n",
    "- Numerical analysis and scientific computation\n",
    "- Structured programming\n",
    "- Array programming\n",
    "- Modular programming\n",
    "- Generic programming\n",
    "- High performance computing on supercomputers\n",
    "- Object oriented programming\n",
    "- Concurrent programming\n",
    "- Reasonable degree of portability between computer systems\n",
    "\n",
    "早期的Fortran I, II 和 III版本已经过时了，最旧的可以用的版本是Fortran IV和Fortran66，目前最常用的版本是：Fortran77，Fortran90和Fortran95\n",
    "\n",
    "Fortran程序由 一系列的程序单元组成，比如 main program，modules，和 external subprograms 或 procedures。\n",
    "\n",
    "每个程序包含一个 main program，并且可能包含或不包含其他的program units。main program的语法如下："
   ]
  },
  {
   "cell_type": "code",
   "execution_count": 6,
   "metadata": {},
   "outputs": [
    {
     "name": "stdout",
     "output_type": "stream",
     "text": [
      " Hello, World!\n"
     ]
    }
   ],
   "source": [
    "! program 后是program的名称，所有fortran程序都要以program开始\n",
    "program hello\n",
    "! implicit none 表示允许编译器检查所有变量类型是否有被合适声明\n",
    "implicit none\n",
    "    ! 感叹号表示注释\n",
    "    print*, \"Hello, World!\"\n",
    "! 结束的时候必须有 end program\n",
    "end program"
   ]
  },
  {
   "cell_type": "markdown",
   "metadata": {},
   "source": [
    "和C有些类似，在使用变量之前，首先要声明变量及其类型，fortran对大小写不敏感，即大小写没有区别。基本的字符串包括字母，数字和下划线以及一些特殊字符。token 由这些基本字符组成，一个token可以是keyword，可以是identifier，constant，string literal，或symbol。编程声明由tokens组成。\n",
    "\n",
    "一个identifier 是一个用来识别变量，procedure，或其他用户定义项的名字。其不能超过31个字符，identifier由字母数据和下划线组成，第一个字符必须是字母，大小写一样。\n",
    "\n",
    "关键字keyword是特别的fortran保留的，不能用作identifiers，可以参考：https://www.tutorialspoint.com/fortran/fortran_basic_syntax.htm\n",
    "\n",
    "Fortran 有5种内置的数据类型：\n",
    "\n",
    "- Integer type：对于整型数据可以使用kind 符号来指定字节长度。\n",
    "- Real type：实数类型就是浮点数，有两种实数型，一是real ，二是double precision。\n",
    "- Complex type：复数型，（3.0，-5.0）等价于 3.0-5.0i\n",
    "- Logical type：两个逻辑值，.true和 .false\n",
    "- Character type：字符类型，存储字符和字符串，长度由len specifier指定，如果没有指定长度，默认为1\n",
    "\n",
    "implicit none表示允许编译器检查所有变量类型是否有被合适声明，如果没有这句，编译器会根据变量名字首字母来自己决定变量的类型。\n",
    "\n",
    "类型之后就是 变量名称。声明之后才能赋值。"
   ]
  },
  {
   "cell_type": "code",
   "execution_count": 16,
   "metadata": {},
   "outputs": [
    {
     "name": "stdout",
     "output_type": "stream",
     "text": [
      " Zara\n",
      "x   =   7\n",
      "x^2 =  49\n"
     ]
    }
   ],
   "source": [
    "program maths\n",
    "implicit none\n",
    "    ! 声明变量及其数据类型，声明一定要在所有变量赋值之前\n",
    "    integer(kind = 4) :: x\n",
    "    character (len=40) :: name\n",
    "    \n",
    "    ! integer :: x\n",
    "    x = 7 \n",
    "    name = \"Zara Ali\"\n",
    "    \n",
    "    print*, name(1:4)\n",
    "    write(*, '(a,i4)') \"x   =\", x\n",
    "    write(*, '(a,i4)') \"x^2 =\", square(x)\n",
    "    \n",
    "contains\n",
    "\n",
    "    integer function square(number)\n",
    "        integer, intent(in) :: number\n",
    "        square = number * number\n",
    "    end function\n",
    "    \n",
    "end program"
   ]
  },
  {
   "cell_type": "markdown",
   "metadata": {},
   "source": [
    "常数即执行过程中不能改变的。这些固定值称为 literals。\n",
    "\n",
    "一个literal 常数只有值没有名称，named constants就是有名字的常量，声明时用parameter"
   ]
  },
  {
   "cell_type": "code",
   "execution_count": 17,
   "metadata": {},
   "outputs": [
    {
     "name": "stdout",
     "output_type": "stream",
     "text": [
      " Time =    5.00000000    \n",
      " Displacement =    127.374992    \n"
     ]
    }
   ],
   "source": [
    "program gravitationalDisp\n",
    "\n",
    "! this program calculates vertical motion under gravity \n",
    "implicit none  \n",
    "\n",
    "   ! gravitational acceleration\n",
    "   real, parameter :: g = 9.81   \n",
    "   \n",
    "   ! variable declaration\n",
    "   real :: s ! displacement   \n",
    "   real :: t ! time  \n",
    "   real :: u ! initial speed  \n",
    "   \n",
    "   ! assigning values \n",
    "   t = 5.0   \n",
    "   u = 50  \n",
    "   \n",
    "   ! displacement   \n",
    "   s = u * t - g * (t**2) / 2  \n",
    "   \n",
    "   ! output \n",
    "   print *, \"Time = \", t\n",
    "   print *, 'Displacement = ',s  \n",
    "   \n",
    "end program gravitationalDisp"
   ]
  },
  {
   "cell_type": "markdown",
   "metadata": {},
   "source": [
    "运算符包括以下几种：\n",
    "\n",
    "- Arithmetic Operators: +,-,*,/,**\n",
    "- Relational Operators: ==, /=, >, <, >=, <=\n",
    "- Logical Operators: .and. , .or. , .not. , .eqv. , .neqv. \n",
    "\n",
    "流程控制方面，if else有不同形式。\n",
    "\n",
    "if then如下所示"
   ]
  },
  {
   "cell_type": "code",
   "execution_count": 18,
   "metadata": {},
   "outputs": [
    {
     "name": "stdout",
     "output_type": "stream",
     "text": [
      " a is less than 20\n",
      " value of a is           10\n"
     ]
    }
   ],
   "source": [
    "program ifProg\n",
    "implicit none\n",
    "   ! local variable declaration\n",
    "   integer :: a = 10\n",
    " \n",
    "   ! check the logical condition using if statement\n",
    "   if (a < 20 ) then\n",
    "   \n",
    "   !if condition is true then print the following \n",
    "   print*, \"a is less than 20\"\n",
    "   end if\n",
    "       \n",
    "   print*, \"value of a is \", a\n",
    "end program ifProg"
   ]
  },
  {
   "cell_type": "markdown",
   "metadata": {},
   "source": [
    "可以给if block 命名："
   ]
  },
  {
   "cell_type": "code",
   "execution_count": 19,
   "metadata": {},
   "outputs": [
    {
     "name": "stdout",
     "output_type": "stream",
     "text": [
      "  Grade A\n"
     ]
    }
   ],
   "source": [
    "program markGradeA  \n",
    "implicit none  \n",
    "   real :: marks\n",
    "   ! assign marks   \n",
    "   marks = 90.4\n",
    "   ! use an if statement to give grade\n",
    "  \n",
    "   gr: if (marks > 90.0) then  \n",
    "   print *, \" Grade A\"\n",
    "   end if gr\n",
    "end program markGradeA"
   ]
  },
  {
   "cell_type": "markdown",
   "metadata": {},
   "source": [
    "if then else形式："
   ]
  },
  {
   "cell_type": "code",
   "execution_count": 20,
   "metadata": {},
   "outputs": [
    {
     "name": "stdout",
     "output_type": "stream",
     "text": [
      " a is not less than 20\n",
      " value of a is          100\n"
     ]
    }
   ],
   "source": [
    "program ifElseProg\n",
    "implicit none\n",
    "   ! local variable declaration\n",
    "   integer :: a = 100\n",
    " \n",
    "   ! check the logical condition using if statement\n",
    "   if (a < 20 ) then\n",
    "   \n",
    "   ! if condition is true then print the following \n",
    "   print*, \"a is less than 20\"\n",
    "   else\n",
    "   print*, \"a is not less than 20\"\n",
    "   end if\n",
    "       \n",
    "   print*, \"value of a is \", a\n",
    "\t\n",
    "end program ifElseProg"
   ]
  },
  {
   "cell_type": "markdown",
   "metadata": {},
   "source": [
    "if...else if...else statement "
   ]
  },
  {
   "cell_type": "code",
   "execution_count": 22,
   "metadata": {},
   "outputs": [
    {
     "name": "stdout",
     "output_type": "stream",
     "text": [
      " None of the values is matching\n"
     ]
    }
   ],
   "source": [
    "program ifElseIfElseProg\n",
    "implicit none\n",
    "\n",
    "   ! local variable declaration\n",
    "   integer :: a = 100\n",
    " \n",
    "   ! check the logical condition using if statement\n",
    "   if( a == 10 ) then\n",
    "  \n",
    "      ! if condition is true then print the following \n",
    "      print*, \"Value of a is 10\" \n",
    "   \n",
    "   else if( a == 20 ) then\n",
    "  \n",
    "      ! if else if condition is true \n",
    "      print*, \"Value of a is 20\" \n",
    "  \n",
    "   else if( a == 30 ) then\n",
    "   \n",
    "      ! if else if condition is true  \n",
    "      print*, \"Value of a is 30\" \n",
    "  \n",
    "   else\n",
    "   \n",
    "      ! if none of the conditions is true \n",
    "      print*, \"None of the values is matching\" \n",
    "      \n",
    "   end if\n",
    "   \n",
    "   print*, \"exact value of a is \", a\n",
    " \n",
    "end program ifElseIfElseProg"
   ]
  },
  {
   "cell_type": "markdown",
   "metadata": {},
   "source": [
    "和其他语言中的switch类似："
   ]
  },
  {
   "cell_type": "code",
   "execution_count": 23,
   "metadata": {},
   "outputs": [
    {
     "name": "stdout",
     "output_type": "stream",
     "text": [
      " Your grade is B\n"
     ]
    }
   ],
   "source": [
    "program selectCaseProg\n",
    "implicit none\n",
    "\n",
    "   ! local variable declaration\n",
    "   character :: grade = 'B'\n",
    "\n",
    "   select case (grade)\n",
    "   \n",
    "      case ('A') \n",
    "      print*, \"Excellent!\" \n",
    "\n",
    "      case ('B')\n",
    "      \n",
    "      case ('C') \n",
    "         print*, \"Well done\" \n",
    "\n",
    "      case ('D')\n",
    "         print*, \"You passed\" \n",
    "\n",
    "      case ('F')\n",
    "         print*, \"Better try again\" \n",
    "\n",
    "      case default\n",
    "         print*, \"Invalid grade\" \n",
    "      \n",
    "   end select\n",
    "   \n",
    "   print*, \"Your grade is \", grade \n",
    " \n",
    "end program selectCaseProg"
   ]
  },
  {
   "cell_type": "markdown",
   "metadata": {},
   "source": [
    "if else 和 select case 都是可以嵌套的，这里就不赘述了。\n",
    "\n",
    "下面看看循环。在Fortran里没有for 循环，循环是用do，另外还有do while，和其他语言的while类似。"
   ]
  },
  {
   "cell_type": "code",
   "execution_count": 26,
   "metadata": {},
   "outputs": [
    {
     "name": "stdout",
     "output_type": "stream",
     "text": [
      "          11\n",
      "          12\n",
      "          13\n",
      "          14\n",
      "          15\n",
      "          16\n",
      "          17\n",
      "          18\n",
      "          19\n",
      "          20\n"
     ]
    }
   ],
   "source": [
    "program printNum \n",
    "implicit none  \n",
    "\n",
    "   ! define variables\n",
    "   integer :: n\n",
    "   \n",
    "   do n = 11, 20     \n",
    "      ! printing the value of n \n",
    "      print*,  n \n",
    "   end do \n",
    "   \n",
    "end program printNum"
   ]
  },
  {
   "cell_type": "markdown",
   "metadata": {},
   "source": [
    "循环嵌套写法如下："
   ]
  },
  {
   "cell_type": "code",
   "execution_count": 27,
   "metadata": {},
   "outputs": [
    {
     "name": "stdout",
     "output_type": "stream",
     "text": [
      " (i, j, k):            1           1           1\n",
      " (i, j, k):            1           1           2\n",
      " (i, j, k):            1           1           3\n",
      " (i, j, k):            1           2           1\n",
      " (i, j, k):            1           2           2\n",
      " (i, j, k):            1           2           3\n",
      " (i, j, k):            1           3           1\n",
      " (i, j, k):            1           3           2\n",
      " (i, j, k):            1           3           3\n",
      " (i, j, k):            2           1           1\n",
      " (i, j, k):            2           1           2\n",
      " (i, j, k):            2           1           3\n",
      " (i, j, k):            2           2           1\n",
      " (i, j, k):            2           2           2\n",
      " (i, j, k):            2           2           3\n",
      " (i, j, k):            2           3           1\n",
      " (i, j, k):            2           3           2\n",
      " (i, j, k):            2           3           3\n",
      " (i, j, k):            3           1           1\n",
      " (i, j, k):            3           1           2\n",
      " (i, j, k):            3           1           3\n",
      " (i, j, k):            3           2           1\n",
      " (i, j, k):            3           2           2\n",
      " (i, j, k):            3           2           3\n",
      " (i, j, k):            3           3           1\n",
      " (i, j, k):            3           3           2\n",
      " (i, j, k):            3           3           3\n"
     ]
    }
   ],
   "source": [
    "program nestedLoop \n",
    "implicit none\n",
    "\n",
    "   integer:: i, j, k\n",
    "   \n",
    "   iloop: do i = 1, 3      \n",
    "      jloop: do j = 1, 3         \n",
    "         kloop: do k = 1, 3              \n",
    "         \n",
    "            print*, \"(i, j, k): \", i, j, k               \n",
    "            \n",
    "         end do kloop       \n",
    "      end do jloop\n",
    "   end do iloop\n",
    "\n",
    "end program nestedLoop "
   ]
  },
  {
   "cell_type": "markdown",
   "metadata": {},
   "source": [
    "循环的中断也不是用 break或者continue，而是 exit，cycle，stop这些，例子如下：\n",
    "\n",
    "end就是跳出当前loop，和break一样"
   ]
  },
  {
   "cell_type": "code",
   "execution_count": 28,
   "metadata": {},
   "outputs": [
    {
     "name": "stdout",
     "output_type": "stream",
     "text": [
      " (i, j, k):            1           1           1\n",
      " (i, j, k):            1           1           2\n",
      " (i, j, k):            2           1           1\n",
      " (i, j, k):            2           1           2\n",
      " (i, j, k):            3           1           1\n",
      " (i, j, k):            3           1           2\n"
     ]
    }
   ],
   "source": [
    "program nestedLoop \n",
    "implicit none\n",
    "\n",
    "integer:: i, j, k\n",
    "   iloop: do i = 1, 3      \n",
    "      jloop: do j = 1, 3         \n",
    "         kloop: do k = 1, 3    \n",
    "        \n",
    "         print*, \"(i, j, k): \", i, j, k               \n",
    "         \n",
    "         if (k==2) then\n",
    "            exit jloop \n",
    "         end if\n",
    "         \n",
    "         end do kloop       \n",
    "      end do jloop  \n",
    "   end do iloop \n",
    "   \n",
    "end program nestedLoop "
   ]
  },
  {
   "cell_type": "markdown",
   "metadata": {},
   "source": [
    "cycle 和 continue一样的"
   ]
  },
  {
   "cell_type": "code",
   "execution_count": 29,
   "metadata": {},
   "outputs": [
    {
     "name": "stdout",
     "output_type": "stream",
     "text": [
      "           1\n",
      "           2\n",
      "           3\n",
      "           4\n",
      "           6\n",
      "           7\n",
      "           8\n",
      "           9\n",
      "          10\n",
      "          11\n",
      "          12\n",
      "          13\n",
      "          14\n",
      "          15\n",
      "          16\n",
      "          17\n",
      "          18\n",
      "          19\n",
      "          20\n"
     ]
    }
   ],
   "source": [
    "program cycle_example     \n",
    "implicit none      \n",
    "\n",
    "   integer :: i     \n",
    "   \n",
    "   do i = 1, 20          \n",
    "   \n",
    "      if (i == 5) then \n",
    "         cycle          \n",
    "      end if         \n",
    "      \n",
    "   print*, i      \n",
    "   end do  \n",
    "   \n",
    "end program cycle_example"
   ]
  },
  {
   "cell_type": "markdown",
   "metadata": {},
   "source": [
    "stop 是直接停止程序"
   ]
  },
  {
   "cell_type": "code",
   "execution_count": 30,
   "metadata": {},
   "outputs": [
    {
     "name": "stdout",
     "output_type": "stream",
     "text": [
      "           1\n",
      "           2\n",
      "           3\n",
      "           4\n"
     ]
    }
   ],
   "source": [
    "program stop_example     \n",
    "implicit none\n",
    "\n",
    "   integer :: i     \n",
    "   do i = 1, 20          \n",
    "   \n",
    "      if (i == 5) then \n",
    "         stop          \n",
    "      end if         \n",
    "      \n",
    "      print*, i      \n",
    "   end do  \n",
    "   \n",
    "end program stop_example"
   ]
  },
  {
   "cell_type": "markdown",
   "metadata": {},
   "source": [
    "接下来看看常用的数据结构，比如数组。Fortran中数组的索引是从1开始的。\n",
    "\n",
    "从下面的例子可以看到还有矩阵。\n",
    "\n",
    "有不少数组的运算函数，这里就不赘述了，详见：https://www.tutorialspoint.com/fortran/fortran_arrays.htm"
   ]
  },
  {
   "cell_type": "code",
   "execution_count": 31,
   "metadata": {},
   "outputs": [
    {
     "name": "stdout",
     "output_type": "stream",
     "text": [
      "   2.00000000    \n",
      "   4.00000000    \n",
      "   6.00000000    \n",
      "   8.00000000    \n",
      "   10.0000000    \n",
      "           2\n",
      "           3\n",
      "           4\n",
      "           3\n",
      "           4\n",
      "           5\n",
      "           4\n",
      "           5\n",
      "           6\n",
      "   1.50000000    \n",
      "   3.20000005    \n",
      "   4.50000000    \n",
      "  0.899999976    \n",
      "   7.19999981    \n"
     ]
    }
   ],
   "source": [
    "program arrayProg\n",
    "\n",
    "   real :: numbers(5) !one dimensional integer array\n",
    "   integer :: matrix(3,3), i , j !two dimensional real array\n",
    "   \n",
    "   !assigning some values to the array numbers\n",
    "   do i=1,5\n",
    "      numbers(i) = i * 2.0\n",
    "   end do\n",
    "   \n",
    "   !display the values\n",
    "   do i = 1, 5\n",
    "      Print *, numbers(i)\n",
    "   end do\n",
    "   \n",
    "   !assigning some values to the array matrix\n",
    "   do i=1,3\n",
    "      do j = 1, 3\n",
    "         matrix(i, j) = i+j\n",
    "      end do\n",
    "   end do\n",
    "   \n",
    "   !display the values\n",
    "   do i=1,3\n",
    "      do j = 1, 3\n",
    "         Print *, matrix(i,j)\n",
    "      end do\n",
    "   end do\n",
    "   \n",
    "   !short hand assignment\n",
    "   numbers = (/1.5, 3.2,4.5,0.9,7.2 /)\n",
    "   \n",
    "   !display the values\n",
    "   do i = 1, 5\n",
    "      Print *, numbers(i)\n",
    "   end do\n",
    "   \n",
    "end program arrayProg"
   ]
  },
  {
   "cell_type": "markdown",
   "metadata": {},
   "source": [
    "数组和C中的数组类似，都是初始化的时候指定空间大小的，如果需要动态数组，则需要allocatable关键字，分配了空间之后，后面用完还要释放空间。"
   ]
  },
  {
   "cell_type": "code",
   "execution_count": 37,
   "metadata": {},
   "outputs": [
    {
     "name": "stdout",
     "output_type": "stream",
     "text": [
      " Enter the size of the array:           3 ,           4\n",
      " darray(           1 ,           1 ) =    1.00000000    \n",
      " darray(           1 ,           2 ) =    2.00000000    \n",
      " darray(           1 ,           3 ) =    3.00000000    \n",
      " darray(           1 ,           4 ) =    4.00000000    \n",
      " darray(           2 ,           1 ) =    2.00000000    \n",
      " darray(           2 ,           2 ) =    4.00000000    \n",
      " darray(           2 ,           3 ) =    6.00000000    \n",
      " darray(           2 ,           4 ) =    8.00000000    \n",
      " darray(           3 ,           1 ) =    3.00000000    \n",
      " darray(           3 ,           2 ) =    6.00000000    \n",
      " darray(           3 ,           3 ) =    9.00000000    \n",
      " darray(           3 ,           4 ) =    12.0000000    \n"
     ]
    }
   ],
   "source": [
    "program dynamic_array \n",
    "implicit none \n",
    "\n",
    "   !rank is 2, but size not known   \n",
    "   real, dimension (:,:), allocatable :: darray    \n",
    "   integer :: s1, s2     \n",
    "   integer :: i, j\n",
    "   \n",
    "   s1 = 3\n",
    "   s2 = 4\n",
    "   print*, \"Enter the size of the array:\", s1, \",\", s2     \n",
    "      \n",
    "   ! allocate memory      \n",
    "   allocate ( darray(s1,s2) )      \n",
    "   \n",
    "   do i = 1, s1           \n",
    "      do j = 1, s2                \n",
    "         darray(i,j) = i*j               \n",
    "         print*, \"darray(\",i,\",\",j,\") = \", darray(i,j)           \n",
    "      end do      \n",
    "   end do      \n",
    "   \n",
    "   deallocate (darray)  \n",
    "end program dynamic_array"
   ]
  },
  {
   "cell_type": "markdown",
   "metadata": {},
   "source": [
    "data variable/ list / ... 可以用来初始化多个数组"
   ]
  },
  {
   "cell_type": "code",
   "execution_count": 32,
   "metadata": {},
   "outputs": [
    {
     "name": "stdout",
     "output_type": "stream",
     "text": [
      " The A array:\n",
      "           7\n",
      "           8\n",
      "           9\n",
      "          10\n",
      "          11\n",
      " The B array:\n",
      "           1           1           1\n",
      "           2           2           2\n",
      "           3           3           3\n",
      " The C array:\n",
      "           4\n",
      "           2\n",
      "           5\n",
      "           2\n",
      "           6\n",
      "           2\n",
      "           7\n",
      "           2\n",
      "           8\n",
      "           2\n"
     ]
    }
   ],
   "source": [
    "program dataStatement\n",
    "implicit none\n",
    "\n",
    "   integer :: a(5), b(3,3), c(10),i, j\n",
    "   data a /7,8,9,10,11/ \n",
    "   \n",
    "   data b(1,:) /1,1,1/ \n",
    "   data b(2,:)/2,2,2/ \n",
    "   data b(3,:)/3,3,3/ \n",
    "   data (c(i),i = 1,10,2) /4,5,6,7,8/ \n",
    "   data (c(i),i = 2,10,2)/5*2/\n",
    "   \n",
    "   Print *, 'The A array:'\n",
    "   do j = 1, 5                \n",
    "      print*, a(j)           \n",
    "   end do \n",
    "   \n",
    "   Print *, 'The B array:'\n",
    "   do i = lbound(b,1), ubound(b,1)\n",
    "      write(*,*) (b(i,j), j = lbound(b,2), ubound(b,2))\n",
    "   end do\n",
    "\n",
    "   Print *, 'The C array:' \n",
    "   do j = 1, 10                \n",
    "      print*, c(j)           \n",
    "   end do      \n",
    "   \n",
    "end program dataStatement"
   ]
  },
  {
   "cell_type": "markdown",
   "metadata": {},
   "source": [
    "where语句可以用来条件索引数组"
   ]
  },
  {
   "cell_type": "code",
   "execution_count": 38,
   "metadata": {},
   "outputs": [
    {
     "name": "stdout",
     "output_type": "stream",
     "text": [
      " The A array:\n",
      "           0           1           2           3           4\n",
      "          -1           0           1           2           3\n",
      "          -2          -1           0           1           2\n",
      " The A array:\n",
      "           5           5           5           5           5\n",
      "           1           5           5           5           5\n",
      "           1           1           5           5           5\n"
     ]
    }
   ],
   "source": [
    "program whereStatement\n",
    "implicit none\n",
    "\n",
    "   integer :: a(3,5), i , j\n",
    "   \n",
    "   do i = 1,3\n",
    "      do j = 1, 5                \n",
    "         a(i,j) = j-i          \n",
    "      end do \n",
    "   end do\n",
    "   \n",
    "   Print *, 'The A array:'\n",
    "   \n",
    "   do i = lbound(a,1), ubound(a,1)\n",
    "      write(*,*) (a(i,j), j = lbound(a,2), ubound(a,2))\n",
    "   end do\n",
    "   \n",
    "   where( a<0 ) \n",
    "      a = 1 \n",
    "   elsewhere\n",
    "      a = 5\n",
    "   end where\n",
    "  \n",
    "   Print *, 'The A array:'\n",
    "   do i = lbound(a,1), ubound(a,1)\n",
    "      write(*,*) (a(i,j), j = lbound(a,2), ubound(a,2))\n",
    "   end do   \n",
    "   \n",
    "end program whereStatement"
   ]
  },
  {
   "cell_type": "markdown",
   "metadata": {},
   "source": [
    "类似C中的struct，Fortran中有type"
   ]
  },
  {
   "cell_type": "code",
   "execution_count": 39,
   "metadata": {},
   "outputs": [
    {
     "name": "stdout",
     "output_type": "stream",
     "text": [
      " C Programming                                     \n",
      " Nuha Ali                                          \n",
      " C Programming Tutorial                                                                                                                                \n",
      "     6495407\n",
      " Telecom Billing                                   \n",
      " Zara Ali                                          \n",
      " Telecom Billing Tutorial                                                                                                                              \n",
      "     6495700\n"
     ]
    }
   ],
   "source": [
    "program deriveDataType\n",
    "\n",
    "   !type declaration\n",
    "   type Books\n",
    "      character(len = 50) :: title\n",
    "      character(len = 50) :: author\n",
    "      character(len = 150) :: subject\n",
    "      integer :: book_id\n",
    "   end type Books\n",
    "   \n",
    "   !declaring type variables\n",
    "   type(Books) :: book1 \n",
    "   type(Books) :: book2 \n",
    "   \n",
    "   !accessing the components of the structure\n",
    "   \n",
    "   book1%title = \"C Programming\"\n",
    "   book1%author = \"Nuha Ali\"\n",
    "   book1%subject = \"C Programming Tutorial\"\n",
    "   book1%book_id = 6495407 \n",
    "   \n",
    "   book2%title = \"Telecom Billing\"\n",
    "   book2%author = \"Zara Ali\"\n",
    "   book2%subject = \"Telecom Billing Tutorial\"\n",
    "   book2%book_id = 6495700\n",
    "  \n",
    "   !display book info\n",
    "   \n",
    "   Print *, book1%title \n",
    "   Print *, book1%author \n",
    "   Print *, book1%subject \n",
    "   Print *, book1%book_id  \n",
    "   \n",
    "   Print *, book2%title \n",
    "   Print *, book2%author \n",
    "   Print *, book2%subject \n",
    "   Print *, book2%book_id  \n",
    "\n",
    "end program deriveDataType"
   ]
  },
  {
   "cell_type": "markdown",
   "metadata": {},
   "source": [
    "Fortran中也有指针的概念。不过在Fortran中，指针指的是一个数据对象，不仅仅只是存储地址，还有更多的关于一个特定对象的功能，比如type，rank，extents以及memory address。\n",
    "\n",
    "使用allocate语句可以给指针对象分配空间"
   ]
  },
  {
   "cell_type": "code",
   "execution_count": 40,
   "metadata": {},
   "outputs": [
    {
     "name": "stdout",
     "output_type": "stream",
     "text": [
      "           1\n",
      "           5\n"
     ]
    }
   ],
   "source": [
    "program pointerExample\n",
    "implicit none\n",
    "\n",
    "   integer, pointer :: p1\n",
    "   allocate(p1)\n",
    "   \n",
    "   p1 = 1\n",
    "   Print *, p1\n",
    "   \n",
    "   p1 = p1 + 4\n",
    "   Print *, p1\n",
    "   \n",
    "end program pointerExample"
   ]
  },
  {
   "cell_type": "markdown",
   "metadata": {},
   "source": [
    "指针自然可以有要指向的对象，即target变量，target变量必须声明为target，指针关联运算符是=>"
   ]
  },
  {
   "cell_type": "code",
   "execution_count": 41,
   "metadata": {},
   "outputs": [
    {
     "name": "stdout",
     "output_type": "stream",
     "text": [
      "           1\n",
      "           1\n",
      "           5\n",
      "           5\n",
      "           8\n",
      "           8\n"
     ]
    }
   ],
   "source": [
    "program pointerExample\n",
    "implicit none\n",
    "\n",
    "   integer, pointer :: p1\n",
    "   integer, target :: t1 \n",
    "   \n",
    "   p1=>t1\n",
    "   p1 = 1\n",
    "   \n",
    "   Print *, p1\n",
    "   Print *, t1\n",
    "   \n",
    "   p1 = p1 + 4\n",
    "   \n",
    "   Print *, p1\n",
    "   Print *, t1\n",
    "   \n",
    "   t1 = 8\n",
    "   \n",
    "   Print *, p1\n",
    "   Print *, t1\n",
    "   \n",
    "end program pointerExample"
   ]
  },
  {
   "cell_type": "markdown",
   "metadata": {},
   "source": [
    "nullify 语句可以解除指针和被指向对象之间的关系，不过并没有清空被指向对象。associated 是判断指针和被指向对象是否匹配的语句。"
   ]
  },
  {
   "cell_type": "code",
   "execution_count": 42,
   "metadata": {},
   "outputs": [
    {
     "name": "stdout",
     "output_type": "stream",
     "text": [
      "           1\n",
      "           1\n",
      "           5\n",
      "           5\n",
      "           8\n",
      "           8\n",
      "           8\n",
      " T\n",
      " F\n",
      " T\n",
      " -1707136864\n",
      " -1707136864\n",
      "          10\n",
      "          10\n"
     ]
    }
   ],
   "source": [
    "program pointerExample\n",
    "implicit none\n",
    "\n",
    "   integer, pointer :: p1\n",
    "   integer, target :: t1 \n",
    "   integer, target :: t2\n",
    "   \n",
    "   p1=>t1\n",
    "   p1 = 1\n",
    "   \n",
    "   Print *, p1\n",
    "   Print *, t1\n",
    "   \n",
    "   p1 = p1 + 4\n",
    "   Print *, p1\n",
    "   Print *, t1\n",
    "   \n",
    "   t1 = 8\n",
    "   Print *, p1\n",
    "   Print *, t1\n",
    "   \n",
    "   nullify(p1)\n",
    "   Print *, t1\n",
    "   \n",
    "   p1=>t2\n",
    "   Print *, associated(p1)\n",
    "   Print*, associated(p1, t1)\n",
    "   Print*, associated(p1, t2)\n",
    "   \n",
    "   !what is the value of p1 at present\n",
    "   Print *, p1\n",
    "   Print *, t2\n",
    "   \n",
    "   p1 = 10\n",
    "   Print *, p1\n",
    "   Print *, t2\n",
    "   \n",
    "end program pointerExample"
   ]
  },
  {
   "cell_type": "markdown",
   "metadata": {},
   "source": [
    "接着看看输入输出流"
   ]
  },
  {
   "cell_type": "code",
   "execution_count": 43,
   "metadata": {},
   "outputs": [
    {
     "name": "stdout",
     "output_type": "stream",
     "text": [
      " 3.142\n",
      " 3.1415927\n",
      "   3.141592741012573\n",
      "      0.3142E-01\n"
     ]
    }
   ],
   "source": [
    "program printPi\n",
    "\n",
    "   pi = 3.141592653589793238 \n",
    "   \n",
    "   Print \"(f6.3)\", pi \n",
    "   Print \"(f10.7)\", pi\n",
    "   Print \"(f20.15)\", pi \n",
    "   Print \"(e16.4)\", pi/100 \n",
    "   \n",
    "end program printPi"
   ]
  },
  {
   "cell_type": "code",
   "execution_count": 45,
   "metadata": {},
   "outputs": [
    {
     "name": "stdout",
     "output_type": "stream",
     "text": [
      "  Enter your first name.\n",
      "  Up to 20 characters, please\n",
      " owen           \n"
     ]
    }
   ],
   "source": [
    "program printName\n",
    "implicit none\n",
    "\n",
    "   character (len = 15) :: first_name\n",
    "   print *,' Enter your first name.' \n",
    "   print *,' Up to 20 characters, please'\n",
    "   \n",
    "   first_name = \"owen\"\n",
    "   print \"(1x,a)\",first_name\n",
    "   \n",
    "end program printName"
   ]
  },
  {
   "cell_type": "markdown",
   "metadata": {},
   "source": [
    "读写文件有read和write函数。下面的例子先写数字到一个文件，首先是open一个file，然后再把数据写入到这个刚打开的文件中。"
   ]
  },
  {
   "cell_type": "code",
   "execution_count": 46,
   "metadata": {},
   "outputs": [
    {
     "name": "stdout",
     "output_type": "stream",
     "text": [
      "  0.100000001       5.54589933E-05\n",
      "  0.200000003       4.41325130E-04\n",
      "  0.300000012       1.47636665E-03\n",
      "  0.400000006       3.45637114E-03\n",
      "  0.500000000       6.64328877E-03\n",
      "  0.600000024       1.12552457E-02\n",
      "  0.699999988       1.74576249E-02\n",
      "  0.800000012       2.53552198E-02\n",
      "  0.900000036       3.49861123E-02\n",
      "   1.00000000       4.63171192E-02\n",
      "   1.10000002       5.92407584E-02\n",
      "   1.20000005       7.35742524E-02\n",
      "   1.30000007       8.90605897E-02\n",
      "   1.39999998      0.105371222    \n",
      "   1.50000000      0.122110792    \n",
      "   1.60000002      0.138823599    \n",
      "   1.70000005      0.155002132    \n",
      "   1.80000007      0.170096487    \n",
      "   1.89999998      0.183526158    \n",
      "   2.00000000      0.194692180    \n",
      "   2.10000014      0.202990443    \n",
      "   2.20000005      0.207826138    \n",
      "   2.29999995      0.208628103    \n",
      "   2.40000010      0.204863429    \n",
      "   2.50000000      0.196052119    \n",
      "   2.60000014      0.181780845    \n",
      "   2.70000005      0.161716297    \n",
      "   2.79999995      0.135617107    \n",
      "   2.90000010      0.103344671    \n",
      "   3.00000000       6.48725405E-02\n",
      "   3.10000014       2.02930309E-02\n",
      "   3.20000005      -3.01767997E-02\n",
      "   3.29999995      -8.61928314E-02\n",
      "   3.40000010     -0.147283033    \n",
      "   3.50000000     -0.212848678    \n",
      "   3.60000014     -0.282169819    \n",
      "   3.70000005     -0.354410470    \n",
      "   3.79999995     -0.428629100    \n",
      "   3.90000010     -0.503789663    \n",
      "   4.00000000     -0.578774154    \n",
      "   4.09999990     -0.652400017    \n",
      "   4.20000029     -0.723436713    \n",
      "   4.30000019     -0.790623367    \n",
      "   4.40000010     -0.852691114    \n",
      "   4.50000000     -0.908382416    \n",
      "   4.59999990     -0.956472993    \n",
      "   4.70000029     -0.995793998    \n",
      "   4.80000019      -1.02525222    \n",
      "   4.90000010      -1.04385209    \n",
      "   5.00000000      -1.05071592    \n",
      "   5.09999990      -1.04510081    \n",
      "   5.20000029      -1.02641726    \n",
      "   5.30000019     -0.994243503    \n",
      "   5.40000010     -0.948338211    \n",
      "   5.50000000     -0.888650239    \n",
      "   5.59999990     -0.815326691    \n",
      "   5.70000029     -0.728716135    \n",
      "   5.80000019     -0.629372001    \n",
      "   5.90000010     -0.518047631    \n",
      "   6.00000000     -0.395693362    \n",
      "   6.09999990     -0.263447165    \n",
      "   6.20000029     -0.122622721    \n",
      "   6.30000019       2.53026206E-02\n",
      "   6.40000010      0.178709000    \n",
      "   6.50000000      0.335851669    \n",
      "   6.59999990      0.494883657    \n",
      "   6.70000029      0.653881252    \n",
      "   6.80000019      0.810866773    \n",
      "   6.90000010      0.963840425    \n",
      "   7.00000000       1.11080539    \n",
      "   7.09999990       1.24979746    \n",
      "   7.20000029       1.37891400    \n",
      "   7.30000019       1.49633956    \n",
      "   7.40000010       1.60037744    \n",
      "   7.50000000       1.68947268    \n",
      "   7.59999990       1.76223695    \n",
      "   7.70000029       1.81747139    \n",
      "   7.80000019       1.85418403    \n",
      "   7.90000010       1.87160957    \n",
      "   8.00000000       1.86922085    \n",
      "   8.10000038       1.84674001    \n",
      "   8.19999981       1.80414569    \n",
      "   8.30000019       1.74167383    \n",
      "   8.40000057       1.65982044    \n",
      "   8.50000000       1.55933607    \n",
      "   8.60000038       1.44121361    \n",
      "   8.69999981       1.30668485    \n",
      "   8.80000019       1.15719533    \n",
      "   8.90000057      0.994394958    \n",
      "   9.00000000      0.820112705    \n",
      "   9.10000038      0.636327863    \n",
      "   9.19999981      0.445154816    \n",
      "   9.30000019      0.248800844    \n",
      "   9.40000057       4.95488606E-02\n",
      "   9.50000000     -0.150278628    \n",
      "   9.60000038     -0.348357052    \n",
      "   9.69999981     -0.542378068    \n",
      "   9.80000019     -0.730095863    \n",
      "   9.90000057     -0.909344316    \n",
      "   10.0000000      -1.07807255    \n"
     ]
    }
   ],
   "source": [
    "program outputdata   \n",
    "implicit none   \n",
    "\n",
    "   real, dimension(100) :: x, y  \n",
    "   real, dimension(100) :: p, q\n",
    "   integer :: i  \n",
    "   \n",
    "   ! data  \n",
    "   do i = 1,100  \n",
    "      x(i) = i * 0.1 \n",
    "      y(i) = sin(x(i)) * (1-cos(x(i)/3.0))  \n",
    "   end do  \n",
    "   \n",
    "   ! output data into a file \n",
    "   open(1, file = 'data1.dat', status='new')  \n",
    "   do i = 1,100  \n",
    "      write(1,*) x(i), y(i)   \n",
    "   end do  \n",
    "   close(1) \n",
    "\n",
    "   ! opening the file for reading\n",
    "   open (2, file = 'data1.dat', status = 'old')\n",
    "\n",
    "   do i = 1,100  \n",
    "      read(2,*) p(i), q(i)\n",
    "   end do \n",
    "   \n",
    "   close(2)\n",
    "   \n",
    "   do i = 1,100  \n",
    "      write(*,*) p(i), q(i)\n",
    "   end do \n",
    "   \n",
    "end program outputdata"
   ]
  },
  {
   "cell_type": "markdown",
   "metadata": {},
   "source": [
    "接下来看看如何构建自己的函数 procedure。有两种类型的procedure，一是functions，一是subroutines。function是只返回单一量的procedure。返回的值称为 function value。其参数称为dummy argument，是形参。"
   ]
  },
  {
   "cell_type": "code",
   "execution_count": 47,
   "metadata": {},
   "outputs": [
    {
     "name": "stdout",
     "output_type": "stream",
     "text": [
      " The area of a circle with radius 2.0 is\n",
      "   12.5663710    \n"
     ]
    }
   ],
   "source": [
    "program calling_func\n",
    "\n",
    "   real :: a\n",
    "   a = area_of_circle(2.0) \n",
    "   \n",
    "   Print *, \"The area of a circle with radius 2.0 is\"\n",
    "   Print *, a\n",
    "   \n",
    "end program calling_func\n",
    "\n",
    "\n",
    "! this function computes the area of a circle with radius r  \n",
    "function area_of_circle (r)  \n",
    "\n",
    "! function result     \n",
    "implicit none      \n",
    "\n",
    "   ! dummy arguments        \n",
    "   real :: area_of_circle   \n",
    "   \n",
    "   ! local variables \n",
    "   real :: r     \n",
    "   real :: pi\n",
    "   \n",
    "   pi = 4 * atan (1.0)     \n",
    "   area_of_circle = pi * r**2  \n",
    "   \n",
    "end function area_of_circle"
   ]
  },
  {
   "cell_type": "markdown",
   "metadata": {},
   "source": [
    "subroutine 不返回值，不过它能修改参数，也就是说function的参数是形参，而subroutine的参数是实参。"
   ]
  },
  {
   "cell_type": "code",
   "execution_count": 48,
   "metadata": {},
   "outputs": [
    {
     "name": "stdout",
     "output_type": "stream",
     "text": [
      " Before calling swap\n",
      " a =    2.00000000    \n",
      " b =    3.00000000    \n",
      " After calling swap\n",
      " a =    3.00000000    \n",
      " b =    2.00000000    \n"
     ]
    }
   ],
   "source": [
    "program calling_func\n",
    "implicit none\n",
    "\n",
    "   real :: a, b\n",
    "   a = 2.0\n",
    "   b = 3.0\n",
    "   \n",
    "   Print *, \"Before calling swap\"\n",
    "   Print *, \"a = \", a\n",
    "   Print *, \"b = \", b\n",
    "   \n",
    "   call swap(a, b)\n",
    "   \n",
    "   Print *, \"After calling swap\"\n",
    "   Print *, \"a = \", a\n",
    "   Print *, \"b = \", b\n",
    "   \n",
    "end program calling_func\n",
    "\n",
    "\n",
    "subroutine swap(x, y) \n",
    "implicit none\n",
    "\n",
    "   real :: x, y, temp   \n",
    "   \n",
    "   temp = x  \n",
    "   x = y \n",
    "   y = temp  \n",
    "   \n",
    "end subroutine swap"
   ]
  },
  {
   "cell_type": "markdown",
   "metadata": {},
   "source": [
    "接下来一个重要概念 modules。module类似一个package，可以keep自己的functions和subroutines，尤其是当自己写一个大程序或者函数会被多处调用时，这是很有用的。具体来说：\n",
    "\n",
    "- Packaging subprograms, data and interface blocks.\n",
    "- Defining global data that can be used by more than one routine.\n",
    "- Declaring variables that can be made available within any routines you choose.\n",
    "- Importing a module entirely, for use, into another program or subroutine\n",
    "\n",
    "一个module中包括两部分：\n",
    "\n",
    "- a specification part for statements declaration\n",
    "- a contains part for subroutine and function definitions"
   ]
  },
  {
   "cell_type": "code",
   "execution_count": 49,
   "metadata": {},
   "outputs": [
    {
     "name": "stdout",
     "output_type": "stream",
     "text": [
      " Pi =    3.14159274    \n",
      " e =    2.71828175    \n",
      " e raised to the power of 2.0 =    7.38905573    \n",
      " Area of a circle with radius 7.0 =    153.938049    \n"
     ]
    }
   ],
   "source": [
    "module constants  \n",
    "implicit none \n",
    "\n",
    "   real, parameter :: pi = 3.1415926536  \n",
    "   real, parameter :: e = 2.7182818285 \n",
    "   ! real, parameter,private :: pi = 3.1415926536  \n",
    "   ! real, parameter, private :: e = 2.7182818285 \n",
    "   \n",
    "contains      \n",
    "   subroutine show_consts()          \n",
    "      print*, \"Pi = \", pi          \n",
    "      print*,  \"e = \", e     \n",
    "   end subroutine show_consts \n",
    "   \n",
    "end module constants \n",
    "\n",
    "\n",
    "program module_example     \n",
    "use constants      \n",
    "implicit none     \n",
    "\n",
    "   real :: x, ePowerx, area, radius \n",
    "   x = 2.0\n",
    "   radius = 7.0\n",
    "   ePowerx = e ** x\n",
    "   area = pi * radius**2     \n",
    "   \n",
    "   call show_consts() \n",
    "   \n",
    "   print*, \"e raised to the power of 2.0 = \", ePowerx\n",
    "   print*, \"Area of a circle with radius 7.0 = \", area  \n",
    "   \n",
    "end program module_example"
   ]
  },
  {
   "cell_type": "markdown",
   "metadata": {},
   "source": [
    "执行后，可以看到生成了一个.mod文件。而使用module的时候，就要先use connstants，即声明要调用它。\n",
    "\n",
    "可以设置private参数，这样，从program中就不能访问了。\n",
    "\n",
    "最后看下Fortran的debug：\n",
    "\n",
    "- Setting breakpoints,\n",
    "- Stepping through the source code,\n",
    "- Setting watch points\n",
    "\n",
    "可以使用gdb debugger。暂时不多说，后面自己有需要编Fortran再说。"
   ]
  }
 ],
 "metadata": {
  "kernelspec": {
   "display_name": "Fortran",
   "language": "Fortran",
   "name": "fortran_spec"
  },
  "language_info": {
   "file_extension": "f90",
   "mimetype": "text/plain",
   "name": "fortran"
  }
 },
 "nbformat": 4,
 "nbformat_minor": 4
}
