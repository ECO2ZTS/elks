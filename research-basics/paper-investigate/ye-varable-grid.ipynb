{
 "cells": [
  {
   "cell_type": "markdown",
   "metadata": {},
   "source": [
    "# ye\n",
    "\n",
    "一些杂记\n",
    "\n",
    "## Transfer Learning from Deep Features for Remote Sensing and Poverty Mapping\n",
    "\n",
    "这里用的transfer learning 的问题定义是这样的，首先$\\mathcal P = (\\mathcal D,\\mathcal T)$ 是域－任务，然后 transfer learning graph 是这样定义的：一个迁移学习图 $G=(\\mathcal V, \\mathcal{\\epsilon})$ 是一个有向无环图，其中 $\\mathcal V =\\{\\mathcal P_1,\\dots,\\mathcal P_v\\}$是迁移学习问题，$\\mathcal{\\epsilon}=\\{(\\mathcal P_{i_1},\\mathcal P_{j_1}),\\dots,(\\mathcal P_{i_e},\\mathcal P_{j_e})\\}$是边集合。对每个迁移学习问题$\\mathcal P_i=(\\mathcal D_i,\\mathcal T_i) \\in \\mathcal V$，目标是使用 $\\cup_{(j,i)\\in \\mathcal{\\epsilon}}\\mathcal{P}_j$中的知识来提升$\\mathcal{T}_i$中目标预测函数$f_i(\\cdot)$的学习。\n",
    "\n",
    "那他是怎么结合迁移学习和CNN的呢？因为CNN提取的有低级特征，也有高级特征，可以把低级特征直接迁移，然后对目标问题学习新的高级特征。对于数据量不够学习高级特征的地方，CNN上的高级特征也能拿来用。这里他是用了一个多级学习，首先是ImageNet上的目标检测作为$\\mathcal P_1$，$\\mathcal P_2$是从白天的卫星图像预测夜晚的灯光强度，$\\mathcal P_3$是从白天的卫星图像预测贫穷。$\\mathcal V =\\{\\mathcal P_1,\\mathcal P_2,\\mathcal P_3\\}$, $\\mathcal{\\epsilon}=\\{(\\mathcal P_{1},\\mathcal P_{2}),(\\mathcal P_{2},\\mathcal P_{3})\\}$\n",
    "\n",
    "如果想借鉴他的内容，首先得能run下他的代码，搞清楚里面具体是怎么做的，这个还是比较花时间的，代码可见：[jmather625/predicting-poverty-replication](https://github.com/jmather625/predicting-poverty-replication)。暂时先放一放了。\n",
    "\n",
    "## Deep Transfer Learning for Crop Yield Prediction with Remote Sensing Data\n",
    "\n"
   ]
  }
 ],
 "metadata": {
  "kernelspec": {
   "display_name": "Python 3",
   "language": "python",
   "name": "python3"
  },
  "language_info": {
   "codemirror_mode": {
    "name": "ipython",
    "version": 3
   },
   "file_extension": ".py",
   "mimetype": "text/x-python",
   "name": "python",
   "nbconvert_exporter": "python",
   "pygments_lexer": "ipython3",
   "version": "3.7.6"
  }
 },
 "nbformat": 4,
 "nbformat_minor": 4
}
