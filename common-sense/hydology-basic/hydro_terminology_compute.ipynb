{
 "cells": [
  {
   "cell_type": "markdown",
   "metadata": {},
   "source": [
    "# 专业常用基本术语与简单计算\n",
    "\n",
    "在日常科研学习工作中有一些基本的专业术语，遇到了就在这里补充下相关的基本概念。另外还有一些基本计算，比如统计计算，是很常遇到的。对相对比较成体系的就单独成文件展示，这里主要是一些杂记。\n",
    "\n",
    "主要参考资料有：\n",
    "\n",
    "- [Water: Science and Society](https://www.e-education.psu.edu/earth111/)"
   ]
  },
  {
   "cell_type": "markdown",
   "metadata": {},
   "source": [
    "## 水文相关气候气象基本概念\n",
    "\n",
    "### Relative Humidity\n",
    "\n",
    "相对湿度=  the water vapor pressure (numerator) / the equilibrium vapor pressure (denomator) * 100%\n",
    "$$RH=\\frac{H_2O_{actual}}{H_2O_{max}}$$\n",
    "\n",
    "the equilibrium vapor pressure 是指当水分子在进入和离开凝聚相(液体或冰)两种情况下相等时的vapor pressure，也就是此时没有净蒸发也没有净凝结。所以如果 water vapor pressure 比均衡态值大，也就是相对湿度大于1时，就会有凝结，比如形成云，这不是说空气不能持水了，只是凝结快于蒸发。相对湿度为100%时，意味着凝结发生。一个典型的湿热天气时候的相对湿度约为60%-80%，干旱地区的相对湿度通常在15%-25%。\n",
    "\n",
    "一个典型的特点是当温度变化时，空气质量会变化，相应的，相对湿度也会变化，空气冷却时，相对湿度会变大。\n",
    "\n",
    "![](Earth111Mod2RHSlide1.jpg)\n",
    "\n",
    "![](Earth111Mod2RHSlide2.jpg)\n",
    "\n",
    "![](Earth111Mod2RHSlide3.jpg)\n",
    "\n",
    "### The Orographic Effect\n",
    "\n",
    "考虑一下为什么在某些地区会下雨，而在其他地区却会出现沙漠。这有两个主要原因，两者都与导致温度变化的气团的传输，上升和下降有关，最终与空气可以容纳的水蒸气量有关。它们是地形效应The Orographic Effect 和大气对流 atmospheric convection。\n",
    "\n",
    "在这两种情况下，都会发生气团的冷却和升温，因为它们在大气中被迫向上或向下。空气温度随海拔升高而降低的情况称为the atmospheric (or adiabatic) lapse rate，如下所示，它与空气密度和压力随海拔升高而降低有关（随着空气的升高，由于压力降低而膨胀，导致温度降低）。典型的平均 lapse rate 为每公里高度变化约7°C。如果空气质量开始上升且尚未达到露点温度，则其遵循绝热的绝热流失速率，冷却速率几乎完全归因于压力的降低，如下图所示。一旦气团温度达到露点且还在持续上升,水滴开始凝结(形成云)，气团遵循湿绝热递减率(如下图所示),冷却速率会降低,因为气团凝结的过程抵消了一部分(潜热)。\n",
    "\n",
    "![](Module2Figure7_0.png)\n",
    "\n",
    "当气团被迫在高地势上流动时，就会产生地形效应。当空气从山上上升时，它会冷却，水蒸气会凝结。因此，降雨通常集中在山脉迎风一侧，而降雨则随海拔高度的增加而增加。由于持续冷却超过露点，空气中的水蒸气量不能超过饱和，因此水通过凝结和沉淀从空气中流失。\n",
    "\n",
    "在山脉的背风面，情况正好相反:空气下降并变暖。当它这样做的时候，它能够容纳更多的水蒸气(回想一下上面相对湿度图中的饱和线)。然而，由于没有额外的水源，所以下降的气团温度升高，但水蒸汽的数量保持不变。因为空气在下降和变暖的过程中失去了很多原来的水分，相对湿度降低了。这些地区被称为雨影，通常是沙漠。你可能已经注意到了这个相同的过程，当你在冬天加热你的房子或公寓时，加热空气导致了干燥的条件，这是人们经常在他们的木炉子上放水壶或水壶的原因之一。\n",
    "\n",
    "### Atmospheric Convection: Hadley Cells\n",
    "\n",
    "有一种规模更大的效应，在全球降水和蒸发分布中也起着关键作用。从根本上说，这些模式也可以用气团的上升和下降、冷却和升温来解释，就像地形效应一样，但在这种情况下，它们的运动是大气对流的结果，而不是地形特征上的运输。\n",
    "\n",
    "在地球纬度上有规律的气候和降水带，地球上大部分的热带和温带雨林、沙漠、极地沙漠(也称为冻土带)往往有对应的规律。这种全球模式，以及全球盛行的风模式和风暴路径，是由大气对流驱动的。一切都始于太阳辐射。由于地球的曲率，热带地区(北纬23.5度到南纬23.5度之间)平均每单位面积接收到的太阳辐射通量大于高纬度地区。由于地轴是倾斜的，在北半球夏季，太阳辐射的峰值涌入发生在北纬23.5度。在南半球的夏季，最大值出现在南纬23.5。每年，单位面积的太阳能最高通量出现在赤道，结果，赤道周围的空气变暖了。它还能容纳相当多的水，因为正如上面所言，温暖的空气有更高的持水能力。\n",
    "\n",
    "### Earth's energy budget\n",
    "\n",
    "地球能量收支或全球能量收支预算（英语：Earth's energy budget）指的是入射大气系统的来自太阳的能量减去散失到外层空间的能量后留在地球和地球大气层中的能量。对于地球能量收支变化的的量化测量值准确地和全球变暖相联系。\n",
    "\n",
    "由于赤道接收的来自太阳的能量较两极多，入射太阳短波辐射在地球不均匀地分布。入射能量被大气圈和水圈吸收，通过地表水的蒸发、对流、降水、风和洋流进一步分布。当入射的太阳辐射与散发到外层空间的能量相同时，地球属于辐射平衡，全球气温相对稳定。\n",
    "\n",
    "当例如温室气体增加时，地球辐射平衡被改变，全球气温也会改变。然而，地球能量平衡和热量的变动受许多因素影响，例如大气层中化学各物质的占比（主要有气溶胶、温室气体的占比）、地表物体的反照率、云量、植被和土地利用方式。地球表面温度的改变并不是紧随着地球能量收支的变化而变化，由于海洋和冰雪圈对于新能量收支反应的滞后性。净热流量变化在辐射强迫和相应的气候响应达到新的平衡态之前，主要受到海洋热含量的缓冲。\n",
    "\n",
    "![](Earth111Mod2EBSlide3.jpg)\n",
    "\n",
    "![](Earth111Mod2EBSlide4.jpg)\n",
    "\n",
    "### Outgoing Longwave Radiation\n",
    "\n",
    "太阳辐射波长主要为0.15-4微米，其中最大辐射波长平均为0.5微米；地面和大气辐射波长主要为3-120微米，其中最大辐射波长平均为10微米。习惯上称前者为短波辐射，后者为长波辐射。\n",
    "\n",
    "地球长波辐射是地球能量收支的重要组成，指的是从地球大气层辐射到宇宙的总能量。当地球长波辐射等于入射太阳短波辐射时将会达到地球能量平衡，地球平均气温相对稳定。地球长波辐射受到大气中云层和灰尘的影响，云和灰尘增加时，地球长波辐射将会减少。\n",
    "\n",
    "地球长波辐射主要指的是波长范围为 3 到 100 微米的电磁波。在地球气候系统中，地球长波辐射包括大气气体、气溶胶、云和地表的吸收、散射和放出的过程。测量大气层顶部和底部的长波辐射量可以得出被大气层中吸收、加热地表和形成云的辐射量。\n",
    "\n",
    "地球长波辐射自1975年起成功被人造卫星监测。人造卫星监测任务包括了 Nimbus-6 和 Nimbus-7 对于地球能量收支的监测等。\n",
    "\n",
    "大气层底部的长波辐射主要由地面辐射强度计测量。这也是基线地面辐射观测网提供全球明暗校正数据的一部分。\n",
    "\n",
    "### 太阳短波辐射\n",
    "\n",
    "太阳辐射能在可见光线（0.4～0.76μm）、红外线（>0.76μm）和紫外线（<0.4μm）分别占50%、43%和7%，即集中于短波波段，故将太阳辐射称为短波辐射。\n",
    "\n",
    "太阳辐射是地表生物、物理和化学过程（融雪、光合作用、蒸散和作物生长）的最主要的能量来源，也是地球大气中各种现象和一切物理过程的基本动力。地表短波辐射作为太阳辐射的一个重要分支，在地表能量平衡中起着重要作用。探讨太阳辐射变量的变化情况是研究地面水热状况、各种自然地理过程、太阳能利用的必要条件。同时，进行太阳辐射测量，对于研究太阳辐射对地球生物的影响和合理有效利用太阳能具有十分重要的意义。研究到达地面的太阳辐射的中长期变化，不仅具有直接的气候意义，如地面（辐射）能量平衡等研究，而且有助于了解某一区域大气组成的变化，并进而探讨造成这种变化的自然或人为原因；研究晴空太阳短波辐射的变化，反演该区域的大气气溶胶的变化，了解颗粒物污染等大气环境的状况，则能对地面上可利用的太阳能资源进行有效的评估。\n",
    "\n",
    "## vapor pressure deficit\n",
    "\n",
    "Vapour-pressure deficit, or VPD, 指的是空气moisture量和饱和空气moisture量之间的差值（the difference (deficit) between the amount of moisture in the air and how much moisture the air can hold when it is saturated）。\n",
    "\n",
    "当空气饱和时，水分会形成云、露水或者树叶表面水膜。它在温室气体调节中有重要作用。如果在植物的叶子上形成一层水，它就更容易腐烂。 另一方面，随着VPD增加, 植物需要从根部吸收更多水。 In the case of cuttings, the plant may dry out and die. For this reason the ideal range for VPD in a greenhouse is from 0.45 kPa to 1.25 kPa, ideally sitting at around 0.85 kPa. As a general rule, most plants grow well at VPDs of between 0.8 and 0.95 kPa\n",
    "\n",
    "In ecology, it is the difference between the actual water vapour pressure and the saturation water vapour pressure at a particular temperature. Unlike relative humidity, vapour-pressure deficit has a simple nearly straight-line relationship to the rate of evapotranspiration and other measures of evaporation.\n",
    "\n",
    "## reanalysis\n",
    "\n",
    "可以参考：https://www.zhihu.com/question/309865061\n",
    "\n",
    "Reanalysis是一种系统性地为气候监测和研究生成数据集的方式。通过一种不变的（frozen）数据同化scheme和模型，在研究的时间范围内，每6-12小时吸收所有可用观测来构建Reanalyses。这个unchanging framework提供了一种在每个时间步长对气候状态的动态地一致估计。该框架的一个变化的组成是原始输入数据源。这是不可避免的，是因为变化的观测网络，包括但不限于radiosonde, satellite, buoy, aircraft and ship reports。\n",
    "\n",
    "Currently, approximately 7-9 million observations are ingested at each time step. Over the duration of each reanalysis product, the changing observation mix can produce artificial variability and spurious trends. Still, the various reanalysis products have proven to be quite useful when used with appropriate care."
   ]
  },
  {
   "cell_type": "markdown",
   "metadata": {},
   "source": [
    "## 流域河流相关基本概念\n",
    "\n",
    "### Hydrograph\n",
    "\n",
    "中文其实就是径流过程线，表示径流随时间变化的曲线图。美国地质调查局负责监控流量,保持了超过9000流量站,其中大部分记录15分钟时间间隔的径流和包括水质等的许多数据。\n",
    "\n",
    "### River Flow Regimes\n",
    "\n",
    "High and low flows 的时间模式统称为河流的flow regime。flow regime在调节形成河道和洪泛区的地貌过程、控制水生生物生活史的生态过程中起着关键作用，是河流生态系统中生物多样性的主要决定因素。主要有五个组成部分来描述flow regime：\n",
    " \n",
    "- Magnitude：任意给定时间的径流总量\n",
    "- Frequency：超过或在某一给定的Magnitude之下的径流频率\n",
    "- Duration：超过或在某一给定的Magnitude之下的径流周期\n",
    "- Predictability：不同径流事件出现的普遍性\n",
    "- Rate of change or flashiness：径流从一个Magnitude变化到另一个有多快\n",
    "\n",
    "在气候、地质和地形相似的地区，河流往往有相似的flow regimes。例如，山地河流，比如Logan river，往往有相对罕见的、高强度的、长持续时间的、可预测的、变化速度缓慢的洪水事件(relatively infrequent, high magnitude, long duration, and predictable flood events that have a slow rate of change)；由于可预测的雨季和旱季，许多热带地区的河流具有与山地河流相似的流态特征。相比之下，干旱地区的河流往往具有高强度、短时间、低可预测性和高flashiness的特点。\n",
    "\n",
    "在气候相似的地区，土壤类型、土壤深度、植被覆盖和流域大小等局部因素会影响自然流态。例如，具有深的、可渗透的土壤的流域将比具有薄的、不渗透的土壤的流域能够吸收更多的降水，因此，较低强度和较长持续时间的突发洪水将较少。大河往往没有小溪流变化那么快，小溪流对单个降水事件的反应更快。因此，在附近的流域之间，自然的水流状况可能有所不同。此外，虽然可以从流域特征确定flow regime的一般模式，但降水模式的年变化意味着需要多年的流量监测才能充分确定各河流的flow regime。\n",
    "\n",
    "### Stream\n",
    "\n",
    "channel一般根据水文过程 Hydrological Process、地貌过程 Geomorphological、生态过程等几个过程的发生来判断是否划分为河流。\n",
    "\n",
    "一条 Stream 一般由 汇合的、渠化的 水流组成，即使它一年只有几天的时间在输运水。相反，一个高地系统可能有地表水流动，但这种流动更类似于片流，通常不汇流到渠道。\n",
    "\n",
    "一个stream channel 是水流过程中泥沙和溶解成分快速运移的区域。然而，并不是所有的沉积物都能在所有的水流中输移，这就提供了一种泥沙分类的机制和特殊模式。\n",
    "\n",
    "河道是水生生物如鱼类和昆虫的栖息地。相反，高地系统甚至不能为水生生物提供暂时的栖息地。即使当河道表面干涸，鱼和其他生物也能在孤立的水池或孤立的水流区域(如泉水和栖息的含水层)中生存。许多生物可以在河床中生存，即使表面是干燥的，这是由于不稳定流动，也就是在河床下的沉积物中流动的水流。即使水生生物不能全年在河道中生存，临时的洪水也能提供生产系统和隔离捕食者，有利于年轻生物的繁殖和发育，当河流干涸时，它们可以迁移到多年生河流中。\n",
    "\n",
    "### Flow Duration Curve(FDC)\n",
    "\n",
    "虽然研究hydrograph和上述其他流量指标可能很有帮助，但通常有一个有关河流的重要问题需要解答，即“流量超过（或不超过）给定值（例如3 立方米每秒）的时间百分比是多少？” 回答该问题以确定流量太低而无法支撑特定鱼类的时间百分比可能很重要，或者，知道河流超过会造成洪水破坏的已知值的时间比例很重要。这些问题可以通过生成FDC曲线以确定超出/低于任何给定流量的时间比例来解决。\n",
    "\n",
    "如下图所示，展示了2006以及随后的三年水文年各自的hydropgraph对应的FDC。可以容易看到不超过40％的中小流量每年相对相似，但较大的流量显示出相当大的可变性。2007年的最高流量仅略高于400 cfs，而2006年则超过1500 cfs。超过20％的时间（x轴为0.2）的流量在2005年约为450 cfs，但在2007年只有200 cfs。（cfs是美国常用的流量单位，立方英尺每秒）\n",
    "\n",
    "![](Earth111Mod3Fig21.png)\n",
    "\n",
    "可以为给定的河流绘制两个不同时间段的FDC，以说明流量范围是否/如何随时间变化。如下图示了明尼苏达州南部的Le Sueur河在两个不同时间段的FDC(1950-1970年为蓝色，1990-2010年为红色)。请注意，在这些图中，fraction of year exceeded 被标记为“exceedance probability”。这两个术语是等价的。\n",
    "\n",
    "![](Earth111Mod3FlowDurSlide5.jpg)\n",
    "\n",
    "exceedance probability 的计算公式如下：\n",
    "$$E_P=\\frac{R}{n+1}$$\n",
    "R是指将径流排序后某个径流的rank，n是径流数。\n",
    "\n",
    "### Return period\n",
    "\n",
    "中文就是“重现期”，是一个很常见的概念，根据[维基百科](https://en.wikipedia.org/wiki/Return_period)的介绍，其定义如下：an average time or an estimated average time between events such as earthquakes, floods, landslides, or a river discharge flows to occur.\n",
    "\n",
    "字面意思就是两次某事件发生的“平均间隔”，很显然，这是一个统计概念，它是基于较长尺度的历史数据，为了风险分析而用的，比如设计大坝时候设计什么级别的。通常在考虑该问题时，会在平稳状态下考虑，即事件的概率不会随时间变化，且假设事件独立于过去的事件。\n",
    "\n",
    "估算重现期的方法通常是：\n",
    "$${\\displaystyle ={n+1 \\over m}}$$\n",
    "其中，n表示有记录的总年数，m是被考虑的事件有记录的次数。\n",
    "\n",
    "比如对于洪水，事件的衡量单位通常是$m^3/s$\n",
    "\n",
    "可以看到重现期和上面的超限概率刚好是倒数关系。也就是说，超限概率可以解释为一年内发生超过此事的概率。\n",
    "\n",
    "注意重现期只是基于观测的，并不是真的概率情况，这个区别是明显的，比如如果记录就只有400年，那超过400年一遇的事件显然就没有被记录下来了，那这种情况下怎么记录更大范围的事件呢？\n",
    "\n",
    "这就需要统计模型来预测极端事件了，通过统计模型可以给我们一些关于极端事件的信息。\n",
    "\n",
    "所以通常会使用一些概率分布来描述极端事件。接下来参考文献：[Plotting Positions in Extreme Value Analysis](https://journals.ametsoc.org/doi/pdf/10.1175/JAM2349.1)，进一步了解相关内容。\n",
    "\n",
    "如前所述，计算时，我们都会对数据排序，这样才能计算超限概率或者重现期，然后在用统计模型来拟合order-ranked 数据时，会有一个问题：哪个累计概率P来对应到第m个排序的数据？这就是“plotting positions” 问题，通常会令P=m/(N+1)。"
   ]
  },
  {
   "cell_type": "markdown",
   "metadata": {},
   "source": [
    "### Subsurface flow contact time index\n",
    "\n",
    "主要参考<https://agupubs.onlinelibrary.wiley.com/doi/epdf/10.1029/WR025i005p00829>\n",
    "\n",
    "### Topographic wetness index\n",
    "\n",
    "主要参考维基百科和<https://agupubs.onlinelibrary.wiley.com/doi/epdf/10.1029/95WR00471>\n",
    "\n",
    "地形湿度指数（TWI），也称为复合地形指数，是稳态湿度指数。它通常用于量化水文过程的地形控制。该指数是与流动方向正交的每单位宽度的斜率和上游贡献区域的函数。该指数是为山坡连接而设计的。平坦区域的累积数量将非常大，因此TWI将不是相关变量。该指数与几个土壤属性高度相关，如地平线深度，淤泥百分比，有机质含量和磷。\n",
    "\n",
    "计算公式：\n",
    "$ln{\\frac{a}{tanb}}$\n",
    "\n",
    "a为单位等高线长度通过某一点的局部上斜面积 and tan b is the local slope in radians. The TWI has been used to study **spatial scale effects on hydrological processes**. The topographic wetness index (TWI) was developed by Beven and Kirkby within the runoff model TOPMODEL. The topographic wetness index is unitless.\n",
    "\n",
    "Uses：\n",
    "The TWI has been used to study **spatial scale effects on hydrological processes** and to **identify hydrological flow paths for geochemical modelling**, as well as to characterize biological processes such as annual net primary production, vegetation patterns, and forest site quality."
   ]
  },
  {
   "cell_type": "markdown",
   "metadata": {},
   "source": [
    "## NSE\n",
    "\n",
    "NSE 全名 Nash–Sutcliffe model efficiency coefficient，用来评价水文模型的预测能力，原文可以参考：[River flow forecasting through conceptual models part I — A discussion of principles](https://www.sciencedirect.com/science/article/pii/0022169470902556)。这里根据维基百科[Nash–Sutcliffe model efficiency coefficient](https://en.wikipedia.org/wiki/Nash%E2%80%93Sutcliffe_model_efficiency_coefficient)做一些记录。\n",
    "\n",
    "先上公式：\n",
    "$$NSE=1-\\frac{\\sum _{t=1}^{T} (Q_o^t - Q_m^t)^2}{\\sum _{t=1}^T (Q_o^t -\\overline{Q_o})^2}$$\n",
    "$Q_o$是观测径流平均值，$Q_m$是模拟径流。$Q_o^t$是t时段径流。\n",
    "\n",
    "NSE值范围$-\\infty$至1，NSE=1 表示模拟值和观测值非常匹配。NSE=0则表明模型预测和观测均值一致。而NSE为负数则说明观测均值都比模拟值效果好，即模拟与观测的residual variance 比 径流本身的方差还大。总之，越接近1，说明预测越好。0.5<NSE<0.65可以算是一个足够好的预测NSE的范围。\n",
    "\n",
    "当模拟是回归时，NSE和$R^2$等价。\n",
    "\n",
    "NSE对极值比较敏感，因此离群值影响较大。\n",
    "\n",
    "纳什效率可以用来定量描述模型输出的准确性，而不仅仅是流量。只要有观测数据，并与模型结果进行比较，该指标可用于描述其他模型的预测精度。\n",
    "\n",
    "下面给出二维的NSE计算方式。每行表示不同的时间，每列表示不同的站点。"
   ]
  },
  {
   "cell_type": "code",
   "execution_count": 1,
   "metadata": {},
   "outputs": [
    {
     "data": {
      "text/plain": [
       "array([[0.77299318, 0.93110781, 0.61344466, 0.59077671],\n",
       "       [0.87428005, 0.73748276, 0.96489747, 0.15147568],\n",
       "       [0.5324837 , 0.52087105, 0.19280145, 0.97518824],\n",
       "       [0.85641017, 0.36230884, 0.40033902, 0.95105049],\n",
       "       [0.49986271, 0.48528391, 0.77023128, 0.88648821],\n",
       "       [0.68811885, 0.5686715 , 0.853841  , 0.41244193]])"
      ]
     },
     "execution_count": 1,
     "metadata": {},
     "output_type": "execute_result"
    }
   ],
   "source": [
    "import numpy as np\n",
    "sim = np.random.rand(6,4)\n",
    "sim"
   ]
  },
  {
   "cell_type": "code",
   "execution_count": 2,
   "metadata": {},
   "outputs": [
    {
     "data": {
      "text/plain": [
       "array([[0.37624655, 0.3882488 , 0.40857586, 0.47870022],\n",
       "       [0.11128952, 0.50079661, 0.65202264, 0.86300654],\n",
       "       [0.45381696, 0.30629946, 0.79727836, 0.25456241],\n",
       "       [0.11884363, 0.03157025, 0.35898196, 0.3129646 ],\n",
       "       [0.12638574, 0.43002274, 0.51179265, 0.19585329],\n",
       "       [0.14161953, 0.82997271, 0.8597656 , 0.2980715 ]])"
      ]
     },
     "execution_count": 2,
     "metadata": {},
     "output_type": "execute_result"
    }
   ],
   "source": [
    "obs = np.random.rand(6,4)\n",
    "obs"
   ]
  },
  {
   "cell_type": "markdown",
   "metadata": {},
   "source": [
    "先求每个站点的观测均值，注意尽量不要用循环，for会使运算变慢。"
   ]
  },
  {
   "cell_type": "code",
   "execution_count": 3,
   "metadata": {},
   "outputs": [
    {
     "data": {
      "text/plain": [
       "array([0.22136699, 0.4144851 , 0.59806951, 0.40052643])"
      ]
     },
     "execution_count": 3,
     "metadata": {},
     "output_type": "execute_result"
    }
   ],
   "source": [
    "obs_mean=np.mean(obs,axis=0)\n",
    "obs_mean"
   ]
  },
  {
   "cell_type": "markdown",
   "metadata": {},
   "source": [
    "然后扩展为同样shape的数组，以做减法运算（也可以广播）"
   ]
  },
  {
   "cell_type": "code",
   "execution_count": 4,
   "metadata": {},
   "outputs": [
    {
     "data": {
      "text/plain": [
       "array([[0.22136699, 0.4144851 , 0.59806951, 0.40052643],\n",
       "       [0.22136699, 0.4144851 , 0.59806951, 0.40052643],\n",
       "       [0.22136699, 0.4144851 , 0.59806951, 0.40052643],\n",
       "       [0.22136699, 0.4144851 , 0.59806951, 0.40052643],\n",
       "       [0.22136699, 0.4144851 , 0.59806951, 0.40052643],\n",
       "       [0.22136699, 0.4144851 , 0.59806951, 0.40052643]])"
      ]
     },
     "execution_count": 4,
     "metadata": {},
     "output_type": "execute_result"
    }
   ],
   "source": [
    "obs_means=np.tile(obs_mean, (obs.shape[0],1))\n",
    "obs_means"
   ]
  },
  {
   "cell_type": "markdown",
   "metadata": {},
   "source": [
    "接着做减法并求平方，然后每列各自求和："
   ]
  },
  {
   "cell_type": "code",
   "execution_count": 5,
   "metadata": {},
   "outputs": [
    {
     "data": {
      "text/plain": [
       "array([0.11602985, 0.33933731, 0.21159434, 0.30135967])"
      ]
     },
     "execution_count": 5,
     "metadata": {},
     "output_type": "execute_result"
    }
   ],
   "source": [
    "denominator=np.sum((obs-obs_means)**2, axis=0)\n",
    "denominator"
   ]
  },
  {
   "cell_type": "markdown",
   "metadata": {},
   "source": [
    "分子部分先计算obs和sim的差值，然后平方，并每列各自求和："
   ]
  },
  {
   "cell_type": "code",
   "execution_count": 6,
   "metadata": {},
   "outputs": [
    {
     "data": {
      "text/plain": [
       "array([1.72790185, 0.57747733, 0.57379025, 1.93534967])"
      ]
     },
     "execution_count": 6,
     "metadata": {},
     "output_type": "execute_result"
    }
   ],
   "source": [
    "numerator = np.sum((obs-sim)**2, axis=0)\n",
    "numerator"
   ]
  },
  {
   "cell_type": "markdown",
   "metadata": {},
   "source": [
    "然后是element-wise相除："
   ]
  },
  {
   "cell_type": "code",
   "execution_count": 7,
   "metadata": {},
   "outputs": [
    {
     "data": {
      "text/plain": [
       "array([14.89187342,  1.70177967,  2.71174667,  6.42205928])"
      ]
     },
     "execution_count": 7,
     "metadata": {},
     "output_type": "execute_result"
    }
   ],
   "source": [
    "quotient = numerator/denominator\n",
    "quotient"
   ]
  },
  {
   "cell_type": "markdown",
   "metadata": {},
   "source": [
    "构造一个1向量，然后相减即可"
   ]
  },
  {
   "cell_type": "code",
   "execution_count": 8,
   "metadata": {},
   "outputs": [
    {
     "data": {
      "text/plain": [
       "array([-13.89187342,  -0.70177967,  -1.71174667,  -5.42205928])"
      ]
     },
     "execution_count": 8,
     "metadata": {},
     "output_type": "execute_result"
    }
   ],
   "source": [
    "my_ones=np.ones(obs.shape[1])\n",
    "NSE=my_ones-quotient\n",
    "NSE"
   ]
  },
  {
   "cell_type": "markdown",
   "metadata": {},
   "source": [
    "以上就是NSE的计算方法。\n",
    "\n",
    "接下来讨论一个实际情况，在实际观测中我们可能会有缺失值，此时完全按照上述方法计算可能会报错，所以需要处理下特殊情况。"
   ]
  },
  {
   "cell_type": "code",
   "execution_count": 9,
   "metadata": {},
   "outputs": [
    {
     "data": {
      "text/plain": [
       "array([[ 1.,  2.,  3.,  4.,  5.],\n",
       "       [ 6.,  7.,  8.,  9., nan],\n",
       "       [10., 11., nan, 12., 13.]])"
      ]
     },
     "execution_count": 9,
     "metadata": {},
     "output_type": "execute_result"
    }
   ],
   "source": [
    "import numpy as np\n",
    "a1=np.array([[1,2,3,4,5],[6,7,8,9,np.nan],[10,11,np.nan,12,13]])\n",
    "a1"
   ]
  },
  {
   "cell_type": "code",
   "execution_count": 10,
   "metadata": {},
   "outputs": [
    {
     "data": {
      "text/plain": [
       "array([[ 0,  1,  2,  3,  4],\n",
       "       [ 5,  6,  7,  8,  9],\n",
       "       [10, 11, 12, 13, 14]])"
      ]
     },
     "execution_count": 10,
     "metadata": {},
     "output_type": "execute_result"
    }
   ],
   "source": [
    "a2=np.arange(15).reshape(3,5)\n",
    "a2"
   ]
  },
  {
   "cell_type": "markdown",
   "metadata": {},
   "source": [
    "遇到nan的值，应该将它们排除，对应地也将模拟值排除，然后再逐个计算即可。不过这样就不好做向量化运算了，某些情况下可能会非常慢，所以想想另一种办法。先试试对应位置都设置为0会如何。"
   ]
  },
  {
   "cell_type": "code",
   "execution_count": 11,
   "metadata": {},
   "outputs": [
    {
     "name": "stdout",
     "output_type": "stream",
     "text": [
      "-15.0\n"
     ]
    }
   ],
   "source": [
    "def nse_1d(obs,sim):\n",
    "    obs_mean=np.mean(obs)\n",
    "    SST=np.sum((obs-obs_mean)**2)\n",
    "    SSRes = np.sum((obs -sim) ** 2)\n",
    "    nse = 1 - SSRes / SST\n",
    "    return nse\n",
    "\n",
    "a_obs=np.array([1,2])\n",
    "a_sim=np.array([3,4])\n",
    "print(nse_1d(a_obs,a_sim))"
   ]
  },
  {
   "cell_type": "code",
   "execution_count": 12,
   "metadata": {},
   "outputs": [
    {
     "name": "stdout",
     "output_type": "stream",
     "text": [
      "-3.0\n"
     ]
    }
   ],
   "source": [
    "a_obs=np.array([1,2,0])\n",
    "a_sim=np.array([3,4,0])\n",
    "print(nse_1d(a_obs,a_sim))"
   ]
  },
  {
   "cell_type": "markdown",
   "metadata": {},
   "source": [
    "从上面结果看，这种方式是不可行的。那试试换成均值？"
   ]
  },
  {
   "cell_type": "code",
   "execution_count": 13,
   "metadata": {},
   "outputs": [
    {
     "name": "stdout",
     "output_type": "stream",
     "text": [
      "-23.0\n"
     ]
    }
   ],
   "source": [
    "a_obs=np.array([1,2,1.5])\n",
    "a_sim=np.array([3,4,3.5])\n",
    "print(nse_1d(a_obs,a_sim))"
   ]
  },
  {
   "cell_type": "code",
   "execution_count": 14,
   "metadata": {},
   "outputs": [
    {
     "data": {
      "text/plain": [
       "nan"
      ]
     },
     "execution_count": 14,
     "metadata": {},
     "output_type": "execute_result"
    }
   ],
   "source": [
    "a_sim=np.array([3,4,np.nan])\n",
    "a_sim_avg=np.mean(a_sim)\n",
    "a_sim_avg"
   ]
  },
  {
   "cell_type": "markdown",
   "metadata": {},
   "source": [
    "换成均值也不行，其实对于一维的情况，我们可以直接cut掉"
   ]
  }
 ],
 "metadata": {
  "kernelspec": {
   "display_name": "Python 3",
   "language": "python",
   "name": "python3"
  },
  "language_info": {
   "codemirror_mode": {
    "name": "ipython",
    "version": 3
   },
   "file_extension": ".py",
   "mimetype": "text/x-python",
   "name": "python",
   "nbconvert_exporter": "python",
   "pygments_lexer": "ipython3",
   "version": "3.7.7"
  }
 },
 "nbformat": 4,
 "nbformat_minor": 4
}
