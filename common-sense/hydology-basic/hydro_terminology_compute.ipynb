{
 "cells": [
  {
   "cell_type": "markdown",
   "metadata": {},
   "source": [
    "# 专业常用基本术语与简单计算\n",
    "\n",
    "在日常科研学习工作中有一些基本的专业术语，可能对其汉语表示一般都还很熟悉，但对英语表达就有些生疏了，或者有一些本科时候容易忽略的现在又常遇到的，这里补充下相关的基本概念。另外还有一些基本计算，比如统计计算，是很常遇到的，这里日常积累做些记录以备后用。\n",
    "\n",
    "主要参考资料有：\n",
    "\n",
    "- [Water: Science and Society](https://www.e-education.psu.edu/earth111/)"
   ]
  },
  {
   "cell_type": "markdown",
   "metadata": {},
   "source": [
    "## 水文相关气候气象基本概念\n",
    "\n",
    "### Relative Humidity\n",
    "\n",
    "相对湿度=  the water vapor pressure (numerator) / the equilibrium vapor pressure (denomator) * 100%\n",
    "$$RH=\\frac{H_2O_{actual}}{H_2O_{max}}$$\n",
    "\n",
    "the equilibrium vapor pressure 是指当水分子在进入和离开凝聚相(液体或冰)两种情况下相等时的vapor pressure，也就是此时没有净蒸发也没有净凝结。所以如果 water vapor pressure 比均衡态值大，也就是相对湿度大于1时，就会有凝结，比如形成云，这不是说空气不能持水了，只是凝结快于蒸发。相对湿度为100%时，意味着凝结发生。一个典型的湿热天气时候的相对湿度约为60%-80%，干旱地区的相对湿度通常在15%-25%。\n",
    "\n",
    "一个典型的特点是当温度变化时，空气质量会变化，相应的，相对湿度也会变化，空气冷却时，相对湿度会变大。\n",
    "\n",
    "![](Earth111Mod2RHSlide1.jpg)\n",
    "\n",
    "![](Earth111Mod2RHSlide2.jpg)\n",
    "\n",
    "![](Earth111Mod2RHSlide3.jpg)\n",
    "\n",
    "### The Orographic Effect\n",
    "\n",
    "考虑一下为什么在某些地区会下雨，而在其他地区却会出现沙漠。这有两个主要原因，两者都与导致温度变化的气团的传输，上升和下降有关，最终与空气可以容纳的水蒸气量有关。它们是地形效应The Orographic Effect 和大气对流 atmospheric convection。\n",
    "\n",
    "在这两种情况下，都会发生气团的冷却和升温，因为它们在大气中被迫向上或向下。空气温度随海拔升高而降低的情况称为the atmospheric (or adiabatic) lapse rate，如下所示，它与空气密度和压力随海拔升高而降低有关（随着空气的升高，由于压力降低而膨胀，导致温度降低）。典型的平均 lapse rate 为每公里高度变化约7°C。如果空气质量开始上升且尚未达到露点温度，则其遵循绝热的绝热流失速率，冷却速率几乎完全归因于压力的降低，如下图所示。一旦气团温度达到露点且还在持续上升,水滴开始凝结(形成云)，气团遵循湿绝热递减率(如下图所示),冷却速率会降低,因为气团凝结的过程抵消了一部分(潜热)。\n",
    "\n",
    "![](Module2Figure7_0.png)\n",
    "\n",
    "当气团被迫在高地势上流动时，就会产生地形效应。当空气从山上上升时，它会冷却，水蒸气会凝结。因此，降雨通常集中在山脉迎风一侧，而降雨则随海拔高度的增加而增加。由于持续冷却超过露点，空气中的水蒸气量不能超过饱和，因此水通过凝结和沉淀从空气中流失。\n",
    "\n",
    "在山脉的背风面，情况正好相反:空气下降并变暖。当它这样做的时候，它能够容纳更多的水蒸气(回想一下上面相对湿度图中的饱和线)。然而，由于没有额外的水源，所以下降的气团温度升高，但水蒸汽的数量保持不变。因为空气在下降和变暖的过程中失去了很多原来的水分，相对湿度降低了。这些地区被称为雨影，通常是沙漠。你可能已经注意到了这个相同的过程，当你在冬天加热你的房子或公寓时，加热空气导致了干燥的条件，这是人们经常在他们的木炉子上放水壶或水壶的原因之一。\n",
    "\n",
    "### Atmospheric Convection: Hadley Cells\n",
    "\n",
    "有一种规模更大的效应，在全球降水和蒸发分布中也起着关键作用。从根本上说，这些模式也可以用气团的上升和下降、冷却和升温来解释，就像地形效应一样，但在这种情况下，它们的运动是大气对流的结果，而不是地形特征上的运输。\n",
    "\n",
    "在地球纬度上有规律的气候和降水带，地球上大部分的热带和温带雨林、沙漠、极地沙漠(也称为冻土带)往往有对应的规律。这种全球模式，以及全球盛行的风模式和风暴路径，是由大气对流驱动的。一切都始于太阳辐射。由于地球的曲率，热带地区(北纬23.5度到南纬23.5度之间)平均每单位面积接收到的太阳辐射通量大于高纬度地区。由于地轴是倾斜的，在北半球夏季，太阳辐射的峰值涌入发生在北纬23.5度。在南半球的夏季，最大值出现在南纬23.5。每年，单位面积的太阳能最高通量出现在赤道，结果，赤道周围的空气变暖了。它还能容纳相当多的水，因为正如上面所言，温暖的空气有更高的持水能力。\n",
    "\n",
    "### Earth's energy budget\n",
    "\n",
    "地球能量收支或全球能量收支预算（英语：Earth's energy budget）指的是入射大气系统的来自太阳的能量减去散失到外层空间的能量后留在地球和地球大气层中的能量。对于地球能量收支变化的的量化测量值准确地和全球变暖相联系。\n",
    "\n",
    "由于赤道接收的来自太阳的能量较两极多，入射太阳短波辐射在地球不均匀地分布。入射能量被大气圈和水圈吸收，通过地表水的蒸发、对流、降水、风和洋流进一步分布。当入射的太阳辐射与散发到外层空间的能量相同时，地球属于辐射平衡，全球气温相对稳定。\n",
    "\n",
    "当例如温室气体增加时，地球辐射平衡被改变，全球气温也会改变。然而，地球能量平衡和热量的变动受许多因素影响，例如大气层中化学各物质的占比（主要有气溶胶、温室气体的占比）、地表物体的反照率、云量、植被和土地利用方式。地球表面温度的改变并不是紧随着地球能量收支的变化而变化，由于海洋和冰雪圈对于新能量收支反应的滞后性。净热流量变化在辐射强迫和相应的气候响应达到新的平衡态之前，主要受到海洋热含量的缓冲。\n",
    "\n",
    "![](Earth111Mod2EBSlide3.jpg)\n",
    "\n",
    "![](Earth111Mod2EBSlide4.jpg)\n",
    "\n",
    "### Outgoing Longwave Radiation\n",
    "\n",
    "太阳辐射波长主要为0.15-4微米，其中最大辐射波长平均为0.5微米；地面和大气辐射波长主要为3-120微米，其中最大辐射波长平均为10微米。习惯上称前者为短波辐射，后者为长波辐射。\n",
    "\n",
    "地球长波辐射是地球能量收支的重要组成，指的是从地球大气层辐射到宇宙的总能量。当地球长波辐射等于入射太阳短波辐射时将会达到地球能量平衡，地球平均气温相对稳定。地球长波辐射受到大气中云层和灰尘的影响，云和灰尘增加时，地球长波辐射将会减少。\n",
    "\n",
    "地球长波辐射主要指的是波长范围为 3 到 100 微米的电磁波。在地球气候系统中，地球长波辐射包括大气气体、气溶胶、云和地表的吸收、散射和放出的过程。测量大气层顶部和底部的长波辐射量可以得出被大气层中吸收、加热地表和形成云的辐射量。\n",
    "\n",
    "地球长波辐射自1975年起成功被人造卫星监测。人造卫星监测任务包括了 Nimbus-6 和 Nimbus-7 对于地球能量收支的监测等。\n",
    "\n",
    "大气层底部的长波辐射主要由地面辐射强度计测量。这也是基线地面辐射观测网提供全球明暗校正数据的一部分。\n",
    "\n",
    "### 太阳短波辐射\n",
    "\n",
    "太阳辐射能在可见光线（0.4～0.76μm）、红外线（>0.76μm）和紫外线（<0.4μm）分别占50%、43%和7%，即集中于短波波段，故将太阳辐射称为短波辐射。\n",
    "\n",
    "太阳辐射是地表生物、物理和化学过程（融雪、光合作用、蒸散和作物生长）的最主要的能量来源，也是地球大气中各种现象和一切物理过程的基本动力。地表短波辐射作为太阳辐射的一个重要分支，在地表能量平衡中起着重要作用。探讨太阳辐射变量的变化情况是研究地面水热状况、各种自然地理过程、太阳能利用的必要条件。同时，进行太阳辐射测量，对于研究太阳辐射对地球生物的影响和合理有效利用太阳能具有十分重要的意义。研究到达地面的太阳辐射的中长期变化，不仅具有直接的气候意义，如地面（辐射）能量平衡等研究，而且有助于了解某一区域大气组成的变化，并进而探讨造成这种变化的自然或人为原因；研究晴空太阳短波辐射的变化，反演该区域的大气气溶胶的变化，了解颗粒物污染等大气环境的状况，则能对地面上可利用的太阳能资源进行有效的评估。\n",
    "\n",
    "## vapor pressure deficit\n",
    "\n",
    "Vapour-pressure deficit, or VPD, 指的是空气moisture量和饱和空气moisture量之间的差值（the difference (deficit) between the amount of moisture in the air and how much moisture the air can hold when it is saturated）。\n",
    "\n",
    "当空气饱和时，水分会形成云、露水或者树叶表面水膜。它在温室气体调节中有重要作用。如果在植物的叶子上形成一层水，它就更容易腐烂。 另一方面，随着VPD增加, 植物需要从根部吸收更多水。 In the case of cuttings, the plant may dry out and die. For this reason the ideal range for VPD in a greenhouse is from 0.45 kPa to 1.25 kPa, ideally sitting at around 0.85 kPa. As a general rule, most plants grow well at VPDs of between 0.8 and 0.95 kPa\n",
    "\n",
    "In ecology, it is the difference between the actual water vapour pressure and the saturation water vapour pressure at a particular temperature. Unlike relative humidity, vapour-pressure deficit has a simple nearly straight-line relationship to the rate of evapotranspiration and other measures of evaporation.\n",
    "\n",
    "## reanalysis\n",
    "\n",
    "可以参考：https://www.zhihu.com/question/309865061\n",
    "\n",
    "Reanalysis是一种系统性地为气候监测和研究生成数据集的方式。通过一种不变的（frozen）数据同化scheme和模型，在研究的时间范围内，每6-12小时吸收所有可用观测来构建Reanalyses。这个unchanging framework提供了一种在每个时间步长对气候状态的动态地一致估计。该框架的一个变化的组成是原始输入数据源。这是不可避免的，是因为变化的观测网络，包括但不限于radiosonde, satellite, buoy, aircraft and ship reports。\n",
    "\n",
    "Currently, approximately 7-9 million observations are ingested at each time step. Over the duration of each reanalysis product, the changing observation mix can produce artificial variability and spurious trends. Still, the various reanalysis products have proven to be quite useful when used with appropriate care."
   ]
  },
  {
   "cell_type": "markdown",
   "metadata": {},
   "source": [
    "## 流域河流相关基本概念\n",
    "\n",
    "### Hydrograph\n",
    "\n",
    "中文其实就是径流过程线，表示径流随时间变化的曲线图。美国地质调查局负责监控流量,保持了超过9000流量站,其中大部分记录15分钟时间间隔的径流和包括水质等的许多数据。\n",
    "\n",
    "### River Flow Regimes\n",
    "\n",
    "High and low flows 的时间模式统称为河流的flow regime。flow regime在调节形成河道和洪泛区的地貌过程、控制水生生物生活史的生态过程中起着关键作用，是河流生态系统中生物多样性的主要决定因素。主要有五个组成部分来描述flow regime：\n",
    " \n",
    "- Magnitude：任意给定时间的径流总量\n",
    "- Frequency：超过或在某一给定的Magnitude之下的径流频率\n",
    "- Duration：超过或在某一给定的Magnitude之下的径流周期\n",
    "- Predictability：不同径流事件出现的普遍性\n",
    "- Rate of change or flashiness：径流从一个Magnitude变化到另一个有多快\n",
    "\n",
    "在气候、地质和地形相似的地区，河流往往有相似的flow regimes。例如，山地河流，比如Logan river，往往有相对罕见的、高强度的、长持续时间的、可预测的、变化速度缓慢的洪水事件(relatively infrequent, high magnitude, long duration, and predictable flood events that have a slow rate of change)；由于可预测的雨季和旱季，许多热带地区的河流具有与山地河流相似的流态特征。相比之下，干旱地区的河流往往具有高强度、短时间、低可预测性和高flashiness的特点。\n",
    "\n",
    "在气候相似的地区，土壤类型、土壤深度、植被覆盖和流域大小等局部因素会影响自然流态。例如，具有深的、可渗透的土壤的流域将比具有薄的、不渗透的土壤的流域能够吸收更多的降水，因此，较低强度和较长持续时间的突发洪水将较少。大河往往没有小溪流变化那么快，小溪流对单个降水事件的反应更快。因此，在附近的流域之间，自然的水流状况可能有所不同。此外，虽然可以从流域特征确定flow regime的一般模式，但降水模式的年变化意味着需要多年的流量监测才能充分确定各河流的flow regime。\n",
    "\n",
    "### Stream\n",
    "\n",
    "channel一般根据水文过程 Hydrological Process、地貌过程 Geomorphological、生态过程等几个过程的发生来判断是否划分为河流。\n",
    "\n",
    "一条 Stream 一般由 汇合的、渠化的 水流组成，即使它一年只有几天的时间在输运水。相反，一个高地系统可能有地表水流动，但这种流动更类似于片流，通常不汇流到渠道。\n",
    "\n",
    "一个stream channel 是水流过程中泥沙和溶解成分快速运移的区域。然而，并不是所有的沉积物都能在所有的水流中输移，这就提供了一种泥沙分类的机制和特殊模式。\n",
    "\n",
    "河道是水生生物如鱼类和昆虫的栖息地。相反，高地系统甚至不能为水生生物提供暂时的栖息地。即使当河道表面干涸，鱼和其他生物也能在孤立的水池或孤立的水流区域(如泉水和栖息的含水层)中生存。许多生物可以在河床中生存，即使表面是干燥的，这是由于不稳定流动，也就是在河床下的沉积物中流动的水流。即使水生生物不能全年在河道中生存，临时的洪水也能提供生产系统和隔离捕食者，有利于年轻生物的繁殖和发育，当河流干涸时，它们可以迁移到多年生河流中。\n",
    "\n",
    "### Flow Duration Curve(FDC)\n",
    "\n",
    "虽然研究hydrograph和上述其他流量指标可能很有帮助，但通常有一个有关河流的重要问题需要解答，即“流量超过（或不超过）给定值（例如3 立方米每秒）的时间百分比是多少？” 回答该问题以确定流量太低而无法支撑特定鱼类的时间百分比可能很重要，或者，知道河流超过会造成洪水破坏的已知值的时间比例很重要。这些问题可以通过生成FDC曲线以确定超出/低于任何给定流量的时间比例来解决。\n",
    "\n",
    "如下图所示，展示了2006以及随后的三年水文年各自的hydropgraph对应的FDC。可以容易看到不超过40％的中小流量每年相对相似，但较大的流量显示出相当大的可变性。2007年的最高流量仅略高于400 cfs，而2006年则超过1500 cfs。超过20％的时间（x轴为0.2）的流量在2005年约为450 cfs，但在2007年只有200 cfs。（cfs是美国常用的流量单位，立方英尺每秒）\n",
    "\n",
    "![](Earth111Mod3Fig21.png)\n",
    "\n",
    "可以为给定的河流绘制两个不同时间段的FDC，以说明流量范围是否/如何随时间变化。如下图示了明尼苏达州南部的Le Sueur河在两个不同时间段的FDC(1950-1970年为蓝色，1990-2010年为红色)。请注意，在这些图中，fraction of year exceeded 被标记为“exceedance probability”。这两个术语是等价的。\n",
    "\n",
    "![](Earth111Mod3FlowDurSlide5.jpg)\n",
    "\n",
    "exceedance probability 的计算公式如下：\n",
    "$$E_P=\\frac{R}{n+1}$$\n",
    "R是指将径流排序后某个径流的rank，n是径流数。\n",
    "\n",
    "### Subsurface flow contact time index\n",
    "\n",
    "主要参考<https://agupubs.onlinelibrary.wiley.com/doi/epdf/10.1029/WR025i005p00829>\n",
    "\n",
    "### Topographic wetness index\n",
    "\n",
    "主要参考维基百科和<https://agupubs.onlinelibrary.wiley.com/doi/epdf/10.1029/95WR00471>\n",
    "\n",
    "地形湿度指数（TWI），也称为复合地形指数，是稳态湿度指数。它通常用于量化水文过程的地形控制。该指数是与流动方向正交的每单位宽度的斜率和上游贡献区域的函数。该指数是为山坡连接而设计的。平坦区域的累积数量将非常大，因此TWI将不是相关变量。该指数与几个土壤属性高度相关，如地平线深度，淤泥百分比，有机质含量和磷。\n",
    "\n",
    "计算公式：\n",
    "$ln{\\frac{a}{tanb}}$\n",
    "\n",
    "a为单位等高线长度通过某一点的局部上斜面积 and tan b is the local slope in radians. The TWI has been used to study **spatial scale effects on hydrological processes**. The topographic wetness index (TWI) was developed by Beven and Kirkby within the runoff model TOPMODEL. The topographic wetness index is unitless.\n",
    "\n",
    "Uses：\n",
    "The TWI has been used to study **spatial scale effects on hydrological processes** and to **identify hydrological flow paths for geochemical modelling**, as well as to characterize biological processes such as annual net primary production, vegetation patterns, and forest site quality."
   ]
  },
  {
   "cell_type": "markdown",
   "metadata": {},
   "source": [
    "## 彭曼公式\n",
    "\n",
    "关于彭曼公式的基本资料可以参考联合国粮农组织的文档介绍：[Crop evapotranspiration - Guidelines for computing crop water requirements - FAO Irrigation and drainage paper 56](http://www.fao.org/3/X0490E/x0490e00.htm#Contents)。这里简要翻译下其中主要内容。\n",
    "\n",
    "FAO的这个蒸散发计算主要是针对农作物的，不过概念都是普适的。首先是对 Evapotranspiration process 的介绍。\n",
    "\n",
    "### Evapotranspiration process\n",
    "\n",
    "evapotranspiration （ET）包括两个部分，其一是 evaporation，表示土壤表面水分蒸发损失，另一部分是 transpiration ，是指crop的水分散失，两者一起称为 evapotranspiration 。\n",
    "\n",
    "evaporation 是 水分由液转气，并从蒸发表面散去的过程，比如湖面，河面，道路，土壤和植被等。蒸发吸热，因为分子需要能量才能逃逸。直接的太阳辐射，还有环境气温提供了这种能量。蒸发面的水汽压差是蒸发面的水汽压与周围大气的水汽压差。随着蒸发的进行，周围的空气逐渐饱和，蒸发过程将会减慢，如果潮湿的空气不转移到大气中，这一过程可能会停止。当蒸发面为土壤表面时，作物冠层的遮荫程度和蒸发面可用水量是影响蒸发过程的其他因素。频繁的降雨、灌溉从浅水表向土壤上方输送，会湿润土壤表面。在土壤能够快速供水以满足蒸发需求的地方，土壤的蒸发仅由气象条件决定。然而，当降雨和灌溉之间的间隔变大，土壤将水分输送到表面的能力变弱时，表层土壤的含水量下降，土壤表面变干。在这种情况下，有限的水的可用性对土壤蒸发产生控制作用。在土壤表面没有水供应的情况下，蒸发会迅速减少，并可能在几天内几乎完全停止。\n",
    "\n",
    "transpiration 包括蒸发植物组织中含有的液态水并向大气中排放水蒸气。作物主要通过气孔失去水分。气孔是植物叶子上的小开口，气体和水蒸气会通过这些小开口。水分和一些营养物质被植物的根部吸收，并通过植物运输。蒸发发生在叶片内部，即细胞间隙内，与大气的蒸汽交换由气孔孔控制。几乎所有的水分都通过蒸腾作用流失了，只有一小部分在植物内部被利用。蒸腾作用和直接蒸发一样，取决于能量供应、蒸汽压力梯度和风。因此，在评估蒸腾作用时，应考虑辐射、气温、空气湿度和风的条件。土壤含水量和土壤将水分输送到根系的能力也决定了蒸腾速率，涝渍和土壤水盐度也是如此。蒸腾速率还受作物特性、环境因素和栽培措施的影响。不同种类的植物有不同的蒸腾速率。在评价蒸腾作用时，不仅要考虑作物的类型，还要考虑作物的发育、环境和管理。\n",
    "\n",
    "蒸发和蒸腾同时发生，这两个过程很难区分。除了表层土壤的水分有效性外，作物土壤的蒸发主要取决于到达土壤表面的太阳辐射的比例。随着作物的生长和作物冠层遮挡越来越多的地面面积，这一比例在生长过程中逐渐降低。**当作物很小的时候，水分主要是由于土壤蒸发而损失的，但是一旦作物生长良好并完全覆盖了土壤，蒸腾作用就成为主要过程**，在播种时，近100%的ET来自蒸发，而在作物全覆盖时，90%以上的ET来自蒸腾。\n",
    "\n",
    "ET rate 单位通常是 mm/unit time ，rate表示的是单位时间的蒸散发水深当量。举例，对于一个 10000 m2 的面积，1mm/day就是 1000 m3/ha/day。水深也可以单位面积接收的能量表示，该能量是指蒸散发所需的热能，称作 the latent heat of vaporization ($\\lambda$)，是水温的函数。比如 20摄氏度对应 $\\lambda$ 是 2.45 MJ/kg 。也就是说蒸发1kg的水需要2.45MJ能量。因此，可以一平方米 2.45MJ能量的输入可以蒸发1mm的water，所以1mm 水等价于 2.45MJ/m2 .以 MJ/m2/day 表示的ET rate 由 $\\lambda _{ET}$ 潜热通量the latent heat flux 表示。\n",
    "\n",
    "影响 Evapotranspiration 的因素通常有：Weather parameters, crop characteristics, management and environmental aspects\n",
    "\n",
    "主要的天气参数有  radiation, air temperature, humidity and wind speed.  大气蒸发能力由The evaporation power of the atmosphere 由 the reference crop evapotranspiration ($ET_0$) 表示. $ET_0$ 代表了标准植被表面的蒸散发。\n",
    "\n",
    "The crop type, variety and development stage 是考虑植被蒸散发的关键因素。标准条件下的作物蒸散量($ET_c$)是指在土壤水分适宜、管理和环境条件良好的条件下，大面积种植作物，在一定的气候条件下达到充分生产所需的蒸发量。\n",
    "\n",
    "土壤盐碱度、土地肥力差、肥料施用有限、土层坚硬或不能渗透、病虫害防治缺乏以及土壤管理不善等因素可能限制作物的生长，减少蒸散发。在评估ET时需要考虑的其他因素包括地面覆盖、植物密度和土壤含水量。土壤含水量对ET的影响主要取决于水分亏缺的大小和土壤类型。另一方面，过多的水分会导致涝渍，可能会损害根系，通过抑制呼吸来限制根系对水分的吸收。在评估ET率时，应额外考虑影响ET过程的气候和作物因素的管理措施范围。耕作方式和灌溉方式可以改变小气候，影响作物特性或影响土壤和作物表面的湿润。防风林可以降低风速，并直接降低ET率。这种影响可能是显著的，特别是在多风、温暖和干燥的条件下，虽然树木本身的蒸发蒸腾可能抵消了田间的任何减少。在年轻果园里，树木间距很大，可以使用精心设计的滴灌或滴灌系统来减少土壤蒸发。滴管直接将水喷洒在树木附近的土壤上，从而使土壤表面的主要部分保持干燥，并限制蒸发损失。使用地膜，特别是当作物很小的时候，是另一种大幅度减少土壤蒸发的方法。抗蒸腾剂，如封闭气孔、成膜或反射物质，可减少作物的水分损失，从而降低蒸腾速率。\n",
    "\n",
    "### Methods of estimating potential and actual evaporation\n",
    "\n",
    "本节主要参考了[Methods of estimating potential and actual evaporation](https://www.researchgate.net/file.PostFileLoader.html?id=58b6feb8f7b67e3dc71ca3c1&assetKey=AS%3A467146313605122%401488387768864)（注意点击即下载了）。水文上通常关注两个关于蒸发的变量， potential evapotranspiration (PE) 和 实际蒸散发值 ET。PE 就是指供水充足时的最大蒸发能力。ET 实际上并不容易测量，一个常见的测量方式是用  irrigated lysimeter ，用它可以测量PE。\n",
    "\n",
    "PE = Rainfall + Irrigation - Percolation\n",
    "\n",
    "还有就是蒸发皿，通过皿中水位变化可以估算实际蒸发量。还有就是其他一些测量方式，这里不再赘述。\n",
    "\n",
    "通常要得到流域的ET会先计算PE。最常用的计算PE的公式就是Penman equation，一个计算**开放水域的蒸散发估计**的公式：\n",
    "$$PE=(\\frac{\\triangle}{\\triangle + \\gamma})*Q_{ET}+(\\frac{\\gamma}{\\triangle + \\gamma})*E_{at} \\ \\ \\ \\ \\   (mm/day)$$\n",
    "其中，\n",
    "$$Q_{ET}=Q_S*(1-r)-Q_1$$\n",
    "$$Q_1= 0.95*[8.64*10^7/(\\rho*\\lambda)]*\\sigma*(273.16+Ta)^4*(0.53+0.065*(e_d-1.0)^{1/2})*(0.10+0.90*(n/N))$$\n",
    "$$E_{at} = 0.3*(1+0.5*u_2)*(e_a-e_d) $$\n",
    "\n",
    "- $\\triangle$ (mb/C)是饱和蒸汽压力曲线相对于温度的斜率\n",
    "- $\\gamma$是hygrometric常数=0.65 mb/C \n",
    "- $Q_1$是水体长波辐射\n",
    "- r是植被覆盖系数 (r = 0.25 for a short grassed surface)\n",
    "- $T_a$是气温（C）\n",
    "- n/N 是实际/可能 日照小时数\n",
    "- $\\rho$是水密度(kg/m3)\n",
    "- $\\lambda$是水蒸发潜热（J/kg）\n",
    "- $\\sigma$是 Stefan Bolzman 常数 (= $5.7*10^{-8} W/(m^2*grad^4)$). \n",
    "- $u_2$是风速（m/s）\n",
    "- $e_a$是测得的空气温度的饱和蒸汽压\n",
    "- $e_b$是空气的实际蒸汽压(mb)\n",
    "\n",
    "注：$Q_{ET}, Q_s, Q_l, E_{at}$ 单位都是 mm/day. \n",
    "\n",
    "彭曼公式是基于地表能量平衡公式： $R_n=LE+G+H$ ，更多内容可以参考：https://zhuanlan.zhihu.com/p/59166965\n",
    "\n",
    "具体的推导过程可以参考：https://edepot.wur.nl/183107\n",
    "\n",
    "如果觉得不好理解，可以把热通量类比电流，压差或温差类比电压，resistance就是电阻，欧姆定律就会好理解一些了。\n",
    "\n",
    "另外，饱和蒸汽下，两个平面压差和温差之间的关系就是$\\triangle$，温压间关系可见图5.5。\n",
    "\n",
    "然后注意式5.15分子分母写反了，不过后面的是对的。\n",
    "\n",
    "### Penman-Monteith equation\n",
    "\n",
    "接下来记录一种从**气象数据中标准化计算参考蒸散发**的方法。FAO 推荐 将Penman-Monteith方法作为确定参考蒸散发ETo的唯一方法。这里简单给出该方法及其推导过程，所需的气象资料以及相应的参考面定义。\n",
    "\n",
    "1948年，Penman将能量平衡和质量转移方法结合起来，从阳光、温度、湿度和风速的标准气候记录中推导出一个公式来计算开阔水面的蒸发。这种组合方法由许多研究人员进一步发展，并通过引入阻力因素扩展到**作物表面**。\n",
    "\n",
    "cropped表面和水面的主要不同：\n",
    "\n",
    "- 作物表面(例如，0.23)和水面(0.05 - 0.07)的反照率(或太阳辐射的反射系数)是不同的\n",
    "- 作物表面有粗糙度(取决于作物高度和风速)，因此空气动力阻力(ra)与水面有很大的不同。\n",
    "\n",
    "具体的推导过程可以继续参考上一小节参考的文章。\n",
    "\n",
    "首先是wet crop的蒸发计算，和前面的式子比较，主要是换了$E_a$的表达。\n",
    "\n",
    "然后是dry crop，就是这里的Penman-Monteith equation了，$E_a$的表达进一步变化，主要是提到的“big leaf”的概念要理解下。然后串联电阻，电流一样，可以简单理解式5.25。\n",
    "\n",
    "术语阻力区分了空气动力阻力和表面阻力因子(下图)。表面阻力参数通常合并为一个参数，即“bulk”表面阻力参数，它与空气动力阻力是串联的。\n",
    "\n",
    "![](x0490e07.jpg)\n",
    "\n",
    "表面阻力(rs)描述了水蒸气通过气孔、总叶面积和土壤表面的阻力。空气动力阻力，ra，描述了来自植被向上的阻力和来自空气流过植被表面的摩擦。虽然植被层的交换过程过于复杂，不能完全用这两个阻力因子来描述，但是在测量和计算的蒸散发速率之间可以得到很好的相关性，特别是在均匀的草参考面。\n",
    "\n",
    "Penman-Monteith form of the combination equation :\n",
    "$$\\lambda_{ET}=\\frac{\\triangle (R_n-G)+\\rho_a c_p \\frac{e_s-e_a}{r_a}}{\\triangle +\\gamma (1+\\frac{r_s}{r_a})}$$\n",
    "\n",
    "其中，$R_n$ 是净辐射, G 是土壤热通量, $(e_s - e_a)$ 表示了空气的蒸汽压不足, $r_a$ 是恒定气压下的空气密度, $c_p$ 是空气指定热量, D 表示饱和蒸汽压温度关系斜率, g 是psychrometric 常数, $r_s$ 和 $r_a$ 是 （bulk) 表面和气动力阻力.。\n",
    "\n",
    "如上所述，Penman-Monteith方法包括了控制能量交换和相应的潜热通量(蒸散发)的所有参数。大部分的参数都是测量出来的，或者可以很容易地从天气数据中计算出来。该方程可以直接计算任意作物的蒸散发，因为作物的表面和空气阻力是作物特有的。"
   ]
  },
  {
   "cell_type": "markdown",
   "metadata": {},
   "source": [
    "## NSE\n",
    "\n",
    "NSE 全名 Nash–Sutcliffe model efficiency coefficient，用来评价水文模型的预测能力，原文可以参考：[River flow forecasting through conceptual models part I — A discussion of principles](https://www.sciencedirect.com/science/article/pii/0022169470902556)。这里根据维基百科[Nash–Sutcliffe model efficiency coefficient](https://en.wikipedia.org/wiki/Nash%E2%80%93Sutcliffe_model_efficiency_coefficient)做一些记录。\n",
    "\n",
    "先上公式：\n",
    "$$NSE=1-\\frac{\\sum _{t=1}^{T} (Q_o^t - Q_m^t)^2}{\\sum _{t=1}^T (Q_o^t -\\overline{Q_o})^2}$$\n",
    "$Q_o$是观测径流平均值，$Q_m$是模拟径流。$Q_o^t$是t时段径流。\n",
    "\n",
    "NSE值范围$-\\infty$至1，NSE=1 表示模拟值和观测值非常匹配。NSE=0则表明模型预测和观测均值一致。而NSE为负数则说明观测均值都比模拟值效果好，即模拟与观测的residual variance 比 径流本身的方差还大。总之，越接近1，说明预测越好。0.5<NSE<0.65可以算是一个足够好的预测NSE的范围。\n",
    "\n",
    "当模拟是回归时，NSE和$R^2$等价。\n",
    "\n",
    "NSE对极值比较敏感，因此离群值影响较大。\n",
    "\n",
    "纳什效率可以用来定量描述模型输出的准确性，而不仅仅是流量。只要有观测数据，并与模型结果进行比较，该指标可用于描述其他模型的预测精度。\n",
    "\n",
    "下面给出二维的NSE计算方式。每行表示不同的时间，每列表示不同的站点。"
   ]
  },
  {
   "cell_type": "code",
   "execution_count": 3,
   "metadata": {},
   "outputs": [
    {
     "data": {
      "text/plain": [
       "array([[0.72209182, 0.21352318, 0.62410322, 0.389707  ],\n",
       "       [0.89507492, 0.75888337, 0.34669306, 0.40842543],\n",
       "       [0.14654104, 0.46812356, 0.13435416, 0.76889576],\n",
       "       [0.31079085, 0.84641048, 0.76140257, 0.94652568],\n",
       "       [0.09716227, 0.27537252, 0.67535365, 0.50391768],\n",
       "       [0.87018306, 0.82371468, 0.15580497, 0.22831284]])"
      ]
     },
     "execution_count": 3,
     "metadata": {},
     "output_type": "execute_result"
    }
   ],
   "source": [
    "import numpy as np\n",
    "sim = np.random.rand(6,4)\n",
    "sim"
   ]
  },
  {
   "cell_type": "code",
   "execution_count": 4,
   "metadata": {},
   "outputs": [
    {
     "data": {
      "text/plain": [
       "array([[0.55331267, 0.48772107, 0.26298621, 0.86993086],\n",
       "       [0.83876898, 0.31892878, 0.07505383, 0.47556347],\n",
       "       [0.91504126, 0.53631456, 0.79054552, 0.52907441],\n",
       "       [0.00748106, 0.1855167 , 0.32326133, 0.69029544],\n",
       "       [0.50406595, 0.48948671, 0.73682538, 0.59250742],\n",
       "       [0.16226021, 0.92901116, 0.45750459, 0.05923551]])"
      ]
     },
     "execution_count": 4,
     "metadata": {},
     "output_type": "execute_result"
    }
   ],
   "source": [
    "obs = np.random.rand(6,4)\n",
    "obs"
   ]
  },
  {
   "cell_type": "markdown",
   "metadata": {},
   "source": [
    "先求每个站点的观测均值，注意尽量不要用循环，for会使运算变慢。"
   ]
  },
  {
   "cell_type": "code",
   "execution_count": 6,
   "metadata": {},
   "outputs": [
    {
     "data": {
      "text/plain": [
       "array([0.49682169, 0.49116316, 0.44102948, 0.53610118])"
      ]
     },
     "execution_count": 6,
     "metadata": {},
     "output_type": "execute_result"
    }
   ],
   "source": [
    "obs_mean=np.mean(obs,axis=0)\n",
    "obs_mean"
   ]
  },
  {
   "cell_type": "markdown",
   "metadata": {},
   "source": [
    "然后扩展为同样shape的数组，以做减法运算（也可以广播）"
   ]
  },
  {
   "cell_type": "code",
   "execution_count": 7,
   "metadata": {},
   "outputs": [
    {
     "data": {
      "text/plain": [
       "array([[0.49682169, 0.49116316, 0.44102948, 0.53610118],\n",
       "       [0.49682169, 0.49116316, 0.44102948, 0.53610118],\n",
       "       [0.49682169, 0.49116316, 0.44102948, 0.53610118],\n",
       "       [0.49682169, 0.49116316, 0.44102948, 0.53610118],\n",
       "       [0.49682169, 0.49116316, 0.44102948, 0.53610118],\n",
       "       [0.49682169, 0.49116316, 0.44102948, 0.53610118]])"
      ]
     },
     "execution_count": 7,
     "metadata": {},
     "output_type": "execute_result"
    }
   ],
   "source": [
    "obs_means=np.tile(obs_mean, (obs.shape[0],1))\n",
    "obs_means"
   ]
  },
  {
   "cell_type": "markdown",
   "metadata": {},
   "source": [
    "接着做减法并求平方，然后每列各自求和："
   ]
  },
  {
   "cell_type": "code",
   "execution_count": 16,
   "metadata": {},
   "outputs": [
    {
     "data": {
      "text/plain": [
       "array([0.64646491, 0.31684862, 0.38943503, 0.36951484])"
      ]
     },
     "execution_count": 16,
     "metadata": {},
     "output_type": "execute_result"
    }
   ],
   "source": [
    "denominator=np.sum((obs-obs_means)**2, axis=0)\n",
    "denominator"
   ]
  },
  {
   "cell_type": "markdown",
   "metadata": {},
   "source": [
    "分子部分先计算obs和sim的差值，然后平方，并每列各自求和："
   ]
  },
  {
   "cell_type": "code",
   "execution_count": 17,
   "metadata": {},
   "outputs": [
    {
     "data": {
      "text/plain": [
       "array([1.38097153, 0.76710736, 0.92154964, 0.39472597])"
      ]
     },
     "execution_count": 17,
     "metadata": {},
     "output_type": "execute_result"
    }
   ],
   "source": [
    "numerator = np.sum((obs-sim)**2, axis=0)\n",
    "numerator"
   ]
  },
  {
   "cell_type": "markdown",
   "metadata": {},
   "source": [
    "然后是element-wise相除："
   ]
  },
  {
   "cell_type": "code",
   "execution_count": 18,
   "metadata": {},
   "outputs": [
    {
     "data": {
      "text/plain": [
       "array([2.13618948, 2.42105318, 2.36637586, 1.06822765])"
      ]
     },
     "execution_count": 18,
     "metadata": {},
     "output_type": "execute_result"
    }
   ],
   "source": [
    "quotient = numerator/denominator\n",
    "quotient"
   ]
  },
  {
   "cell_type": "markdown",
   "metadata": {},
   "source": [
    "构造一个1向量，然后相减即可"
   ]
  },
  {
   "cell_type": "code",
   "execution_count": 21,
   "metadata": {},
   "outputs": [
    {
     "data": {
      "text/plain": [
       "array([-1.13618948, -1.42105318, -1.36637586, -0.06822765])"
      ]
     },
     "execution_count": 21,
     "metadata": {},
     "output_type": "execute_result"
    }
   ],
   "source": [
    "my_ones=np.ones(obs.shape[1])\n",
    "NSE=my_ones-quotient\n",
    "NSE"
   ]
  },
  {
   "cell_type": "markdown",
   "metadata": {},
   "source": [
    "以上就是NSE的计算方法。\n",
    "\n",
    "接下来讨论一个实际情况，在实际观测中我们可能会有缺失值，此时完全按照上述方法计算可能会报错，所以需要处理下特殊情况。"
   ]
  },
  {
   "cell_type": "code",
   "execution_count": 2,
   "metadata": {},
   "outputs": [
    {
     "data": {
      "text/plain": [
       "array([[ 1.,  2.,  3.,  4.,  5.],\n",
       "       [ 6.,  7.,  8.,  9., nan],\n",
       "       [10., 11., nan, 12., 13.]])"
      ]
     },
     "execution_count": 2,
     "metadata": {},
     "output_type": "execute_result"
    }
   ],
   "source": [
    "import numpy as np\n",
    "a1=np.array([[1,2,3,4,5],[6,7,8,9,np.nan],[10,11,np.nan,12,13]])\n",
    "a1"
   ]
  },
  {
   "cell_type": "code",
   "execution_count": 3,
   "metadata": {},
   "outputs": [
    {
     "data": {
      "text/plain": [
       "array([[ 0,  1,  2,  3,  4],\n",
       "       [ 5,  6,  7,  8,  9],\n",
       "       [10, 11, 12, 13, 14]])"
      ]
     },
     "execution_count": 3,
     "metadata": {},
     "output_type": "execute_result"
    }
   ],
   "source": [
    "a2=np.arange(15).reshape(3,5)\n",
    "a2"
   ]
  },
  {
   "cell_type": "markdown",
   "metadata": {},
   "source": [
    "遇到nan的值，应该将它们排除，对应地也将模拟值排除，然后再逐个计算即可。不过这样就不好做向量化运算了，某些情况下可能会非常慢，所以想想另一种办法。先试试对应位置都设置为0会如何。"
   ]
  },
  {
   "cell_type": "code",
   "execution_count": 10,
   "metadata": {},
   "outputs": [
    {
     "name": "stdout",
     "output_type": "stream",
     "text": [
      "-15.0\n"
     ]
    }
   ],
   "source": [
    "def nse_1d(obs,sim):\n",
    "    obs_mean=np.mean(obs)\n",
    "    SST=np.sum((obs-obs_mean)**2)\n",
    "    SSRes = np.sum((obs -sim) ** 2)\n",
    "    nse = 1 - SSRes / SST\n",
    "    return nse\n",
    "\n",
    "a_obs=np.array([1,2])\n",
    "a_sim=np.array([3,4])\n",
    "print(nse_1d(a_obs,a_sim))"
   ]
  },
  {
   "cell_type": "code",
   "execution_count": 11,
   "metadata": {},
   "outputs": [
    {
     "name": "stdout",
     "output_type": "stream",
     "text": [
      "-3.0\n"
     ]
    }
   ],
   "source": [
    "a_obs=np.array([1,2,0])\n",
    "a_sim=np.array([3,4,0])\n",
    "print(nse_1d(a_obs,a_sim))"
   ]
  },
  {
   "cell_type": "markdown",
   "metadata": {},
   "source": [
    "从上面结果看，这种方式是不可行的。那试试换成均值？"
   ]
  },
  {
   "cell_type": "code",
   "execution_count": 12,
   "metadata": {},
   "outputs": [
    {
     "name": "stdout",
     "output_type": "stream",
     "text": [
      "-23.0\n"
     ]
    }
   ],
   "source": [
    "a_obs=np.array([1,2,1.5])\n",
    "a_sim=np.array([3,4,3.5])\n",
    "print(nse_1d(a_obs,a_sim))"
   ]
  },
  {
   "cell_type": "code",
   "execution_count": 13,
   "metadata": {},
   "outputs": [
    {
     "data": {
      "text/plain": [
       "nan"
      ]
     },
     "execution_count": 13,
     "metadata": {},
     "output_type": "execute_result"
    }
   ],
   "source": [
    "a_sim=np.array([3,4,np.nan])\n",
    "a_sim_avg=np.mean(a_sim)\n",
    "a_sim_avg"
   ]
  },
  {
   "cell_type": "markdown",
   "metadata": {},
   "source": [
    "换成均值也不行，其实对于一维的情况，我们可以直接cut掉"
   ]
  }
 ],
 "metadata": {
  "kernelspec": {
   "display_name": "Python 3",
   "language": "python",
   "name": "python3"
  },
  "language_info": {
   "codemirror_mode": {
    "name": "ipython",
    "version": 3
   },
   "file_extension": ".py",
   "mimetype": "text/x-python",
   "name": "python",
   "nbconvert_exporter": "python",
   "pygments_lexer": "ipython3",
   "version": "3.7.6"
  }
 },
 "nbformat": 4,
 "nbformat_minor": 4
}
